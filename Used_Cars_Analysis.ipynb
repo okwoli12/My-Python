{
 "cells": [
  {
   "cell_type": "code",
   "execution_count": 17,
   "id": "72a86d14",
   "metadata": {},
   "outputs": [],
   "source": [
    "import pandas as pd\n",
    "import numpy as np"
   ]
  },
  {
   "cell_type": "code",
   "execution_count": 18,
   "id": "275c3a9a",
   "metadata": {},
   "outputs": [
    {
     "data": {
      "text/plain": [
       "(892, 6)"
      ]
     },
     "execution_count": 18,
     "metadata": {},
     "output_type": "execute_result"
    }
   ],
   "source": [
    "path = \"C:/Users/ABDULRASHID/Downloads/used_cars/quikr_car.csv\"\n",
    "df = pd.read_csv(path)\n",
    "df.shape"
   ]
  },
  {
   "cell_type": "code",
   "execution_count": 19,
   "id": "242788e9",
   "metadata": {},
   "outputs": [
    {
     "data": {
      "text/html": [
       "<div>\n",
       "<style scoped>\n",
       "    .dataframe tbody tr th:only-of-type {\n",
       "        vertical-align: middle;\n",
       "    }\n",
       "\n",
       "    .dataframe tbody tr th {\n",
       "        vertical-align: top;\n",
       "    }\n",
       "\n",
       "    .dataframe thead th {\n",
       "        text-align: right;\n",
       "    }\n",
       "</style>\n",
       "<table border=\"1\" class=\"dataframe\">\n",
       "  <thead>\n",
       "    <tr style=\"text-align: right;\">\n",
       "      <th></th>\n",
       "      <th>Name of car</th>\n",
       "      <th>Company name</th>\n",
       "      <th>Year</th>\n",
       "      <th>Price</th>\n",
       "      <th>Kms driven</th>\n",
       "      <th>Fuel_type</th>\n",
       "    </tr>\n",
       "  </thead>\n",
       "  <tbody>\n",
       "    <tr>\n",
       "      <th>0</th>\n",
       "      <td>Hyundai Santro Xing XO eRLX Euro III</td>\n",
       "      <td>Hyundai</td>\n",
       "      <td>2007</td>\n",
       "      <td>80,000</td>\n",
       "      <td>45,000</td>\n",
       "      <td>Petrol</td>\n",
       "    </tr>\n",
       "    <tr>\n",
       "      <th>1</th>\n",
       "      <td>Mahindra Jeep CL550 MDI</td>\n",
       "      <td>Mahindra</td>\n",
       "      <td>2006</td>\n",
       "      <td>4,25,000</td>\n",
       "      <td>40</td>\n",
       "      <td>Diesel</td>\n",
       "    </tr>\n",
       "    <tr>\n",
       "      <th>2</th>\n",
       "      <td>Maruti Suzuki Alto 800 Vxi</td>\n",
       "      <td>Maruti</td>\n",
       "      <td>2018</td>\n",
       "      <td>Ask For Price</td>\n",
       "      <td>22,000 kms</td>\n",
       "      <td>Petrol</td>\n",
       "    </tr>\n",
       "    <tr>\n",
       "      <th>3</th>\n",
       "      <td>Hyundai Grand i10 Magna 1.2 Kappa VTVT</td>\n",
       "      <td>Hyundai</td>\n",
       "      <td>2014</td>\n",
       "      <td>3,25,000</td>\n",
       "      <td>28,000</td>\n",
       "      <td>Petrol</td>\n",
       "    </tr>\n",
       "    <tr>\n",
       "      <th>4</th>\n",
       "      <td>Ford EcoSport Titanium 1.5L TDCi</td>\n",
       "      <td>Ford</td>\n",
       "      <td>2014</td>\n",
       "      <td>5,75,000</td>\n",
       "      <td>36,000</td>\n",
       "      <td>Diesel</td>\n",
       "    </tr>\n",
       "  </tbody>\n",
       "</table>\n",
       "</div>"
      ],
      "text/plain": [
       "                              Name of car Company name  Year          Price  \\\n",
       "0    Hyundai Santro Xing XO eRLX Euro III      Hyundai  2007         80,000   \n",
       "1                 Mahindra Jeep CL550 MDI     Mahindra  2006       4,25,000   \n",
       "2              Maruti Suzuki Alto 800 Vxi       Maruti  2018  Ask For Price   \n",
       "3  Hyundai Grand i10 Magna 1.2 Kappa VTVT      Hyundai  2014       3,25,000   \n",
       "4        Ford EcoSport Titanium 1.5L TDCi         Ford  2014       5,75,000   \n",
       "\n",
       "   Kms driven Fuel_type  \n",
       "0      45,000    Petrol  \n",
       "1          40    Diesel  \n",
       "2  22,000 kms    Petrol  \n",
       "3      28,000    Petrol  \n",
       "4      36,000    Diesel  "
      ]
     },
     "execution_count": 19,
     "metadata": {},
     "output_type": "execute_result"
    }
   ],
   "source": [
    "df.head()"
   ]
  },
  {
   "cell_type": "code",
   "execution_count": 2,
   "id": "84ab26c5",
   "metadata": {},
   "outputs": [],
   "source": [
    "# df[\"kms drivien\"].mean()\n"
   ]
  },
  {
   "cell_type": "code",
   "execution_count": 21,
   "id": "c7d938e9",
   "metadata": {},
   "outputs": [
    {
     "name": "stdout",
     "output_type": "stream",
     "text": [
      "<class 'pandas.core.frame.DataFrame'>\n",
      "RangeIndex: 892 entries, 0 to 891\n",
      "Data columns (total 6 columns):\n",
      " #   Column        Non-Null Count  Dtype \n",
      "---  ------        --------------  ----- \n",
      " 0   Name of car   892 non-null    object\n",
      " 1   Company name  892 non-null    object\n",
      " 2   Year          892 non-null    object\n",
      " 3   Price         892 non-null    object\n",
      " 4   Kms driven    840 non-null    object\n",
      " 5   Fuel_type     837 non-null    object\n",
      "dtypes: object(6)\n",
      "memory usage: 41.9+ KB\n"
     ]
    }
   ],
   "source": [
    "df.info()"
   ]
  },
  {
   "cell_type": "code",
   "execution_count": 22,
   "id": "baa66ded",
   "metadata": {},
   "outputs": [],
   "source": [
    "# 1. Average kilometer driven for hundai cars\n",
    "# 2. which hyundai car has the highest sales price\n",
    "# 3. which cheapest diesel driven car with the least kilometer driven"
   ]
  },
  {
   "cell_type": "code",
   "execution_count": 23,
   "id": "b20a41f3",
   "metadata": {},
   "outputs": [
    {
     "data": {
      "text/plain": [
       "Name of car      0\n",
       "Company name     0\n",
       "Year             0\n",
       "Price            0\n",
       "Kms driven      52\n",
       "Fuel_type       55\n",
       "dtype: int64"
      ]
     },
     "execution_count": 23,
     "metadata": {},
     "output_type": "execute_result"
    }
   ],
   "source": [
    "# check for null values\n",
    "df.isna().sum()"
   ]
  },
  {
   "cell_type": "code",
   "execution_count": 24,
   "id": "511754ea",
   "metadata": {},
   "outputs": [
    {
     "name": "stdout",
     "output_type": "stream",
     "text": [
      "<class 'pandas.core.frame.DataFrame'>\n",
      "RangeIndex: 892 entries, 0 to 891\n",
      "Data columns (total 6 columns):\n",
      " #   Column        Non-Null Count  Dtype \n",
      "---  ------        --------------  ----- \n",
      " 0   Name of car   892 non-null    object\n",
      " 1   Company name  892 non-null    object\n",
      " 2   Year          892 non-null    object\n",
      " 3   Price         892 non-null    object\n",
      " 4   Kms driven    840 non-null    object\n",
      " 5   Fuel_type     837 non-null    object\n",
      "dtypes: object(6)\n",
      "memory usage: 41.9+ KB\n"
     ]
    }
   ],
   "source": [
    "df.info()"
   ]
  },
  {
   "cell_type": "code",
   "execution_count": 25,
   "id": "9847ac0e",
   "metadata": {},
   "outputs": [
    {
     "data": {
      "text/plain": [
       "0          45,000\n",
       "1              40\n",
       "2      22,000 kms\n",
       "3          28,000\n",
       "4          36,000\n",
       "          ...    \n",
       "887             0\n",
       "888        27,000\n",
       "889        40,000\n",
       "890        Petrol\n",
       "891        Petrol\n",
       "Name: Kms driven, Length: 892, dtype: object"
      ]
     },
     "execution_count": 25,
     "metadata": {},
     "output_type": "execute_result"
    }
   ],
   "source": [
    "b = df[\"Kms driven\"].fillna(\"0\")\n",
    "b"
   ]
  },
  {
   "cell_type": "code",
   "execution_count": 26,
   "id": "7573fc8d",
   "metadata": {},
   "outputs": [
    {
     "data": {
      "text/plain": [
       "['45,000', '40', '22,000', '28,000', '36,000']"
      ]
     },
     "execution_count": 26,
     "metadata": {},
     "output_type": "execute_result"
    }
   ],
   "source": [
    "arr_driven = []\n",
    "for i in b.values:\n",
    "    d = i.split()[0]\n",
    "    arr_driven.append(d)\n",
    "arr_driven[:5]"
   ]
  },
  {
   "cell_type": "code",
   "execution_count": 27,
   "id": "9dd09c96",
   "metadata": {},
   "outputs": [
    {
     "data": {
      "text/plain": [
       "['45,000', '40', '22,000', '28,000', '36,000']"
      ]
     },
     "execution_count": 27,
     "metadata": {},
     "output_type": "execute_result"
    }
   ],
   "source": [
    "new_driven = []\n",
    "for i in arr_driven:\n",
    "    if i == \"petrol\":\n",
    "        new_driven.append(0)\n",
    "    else:\n",
    "        new_driven.append(i)\n",
    "new_driven[:5]\n",
    "    "
   ]
  },
  {
   "cell_type": "code",
   "execution_count": 28,
   "id": "12e77305",
   "metadata": {},
   "outputs": [
    {
     "data": {
      "text/plain": [
       "['45000', '40', '22000', '28000', '36000']"
      ]
     },
     "execution_count": 28,
     "metadata": {},
     "output_type": "execute_result"
    }
   ],
   "source": [
    "cleaned_val = []\n",
    "for i in new_driven:\n",
    "    f = i.split(\",\")\n",
    "    k = \"\".join(f)\n",
    "    cleaned_val.append(k)\n",
    "cleaned_val[:5]\n",
    "    "
   ]
  },
  {
   "cell_type": "code",
   "execution_count": 29,
   "id": "e4e74ad5",
   "metadata": {},
   "outputs": [
    {
     "ename": "ValueError",
     "evalue": "could not convert string to float: 'Petrol'",
     "output_type": "error",
     "traceback": [
      "\u001b[1;31m---------------------------------------------------------------------------\u001b[0m",
      "\u001b[1;31mValueError\u001b[0m                                Traceback (most recent call last)",
      "\u001b[1;32m~\\AppData\\Local\\Temp\\ipykernel_11104\\2971191007.py\u001b[0m in \u001b[0;36m<module>\u001b[1;34m\u001b[0m\n\u001b[1;32m----> 1\u001b[1;33m \u001b[0mfloat_vals\u001b[0m \u001b[1;33m=\u001b[0m \u001b[1;33m[\u001b[0m\u001b[0mfloat\u001b[0m\u001b[1;33m(\u001b[0m\u001b[0mi\u001b[0m\u001b[1;33m)\u001b[0m \u001b[1;32mfor\u001b[0m \u001b[0mi\u001b[0m \u001b[1;32min\u001b[0m \u001b[0mcleaned_val\u001b[0m\u001b[1;33m]\u001b[0m\u001b[1;33m\u001b[0m\u001b[1;33m\u001b[0m\u001b[0m\n\u001b[0m\u001b[0;32m      2\u001b[0m \u001b[1;31m#float_vals\u001b[0m\u001b[1;33m\u001b[0m\u001b[1;33m\u001b[0m\u001b[0m\n",
      "\u001b[1;32m~\\AppData\\Local\\Temp\\ipykernel_11104\\2971191007.py\u001b[0m in \u001b[0;36m<listcomp>\u001b[1;34m(.0)\u001b[0m\n\u001b[1;32m----> 1\u001b[1;33m \u001b[0mfloat_vals\u001b[0m \u001b[1;33m=\u001b[0m \u001b[1;33m[\u001b[0m\u001b[0mfloat\u001b[0m\u001b[1;33m(\u001b[0m\u001b[0mi\u001b[0m\u001b[1;33m)\u001b[0m \u001b[1;32mfor\u001b[0m \u001b[0mi\u001b[0m \u001b[1;32min\u001b[0m \u001b[0mcleaned_val\u001b[0m\u001b[1;33m]\u001b[0m\u001b[1;33m\u001b[0m\u001b[1;33m\u001b[0m\u001b[0m\n\u001b[0m\u001b[0;32m      2\u001b[0m \u001b[1;31m#float_vals\u001b[0m\u001b[1;33m\u001b[0m\u001b[1;33m\u001b[0m\u001b[0m\n",
      "\u001b[1;31mValueError\u001b[0m: could not convert string to float: 'Petrol'"
     ]
    }
   ],
   "source": [
    "float_vals = [float(i) for i in cleaned_val]\n",
    "#float_vals"
   ]
  },
  {
   "cell_type": "code",
   "execution_count": null,
   "id": "98e62a0f",
   "metadata": {},
   "outputs": [],
   "source": [
    "df[\"Kms driven\"] = float_vals"
   ]
  },
  {
   "cell_type": "code",
   "execution_count": null,
   "id": "b1102c5a",
   "metadata": {},
   "outputs": [],
   "source": [
    "df.head()"
   ]
  },
  {
   "cell_type": "code",
   "execution_count": null,
   "id": "d509976c",
   "metadata": {},
   "outputs": [],
   "source": [
    "#df[\"Kms driven\"].mean()"
   ]
  },
  {
   "cell_type": "code",
   "execution_count": null,
   "id": "9503c072",
   "metadata": {},
   "outputs": [],
   "source": [
    "###question one"
   ]
  },
  {
   "cell_type": "code",
   "execution_count": null,
   "id": "b0511ced",
   "metadata": {},
   "outputs": [],
   "source": [
    "hyundai = df[df['company name'] == 'Hyundai']\n",
    "hyundai"
   ]
  },
  {
   "cell_type": "code",
   "execution_count": null,
   "id": "29a2a90d",
   "metadata": {},
   "outputs": [],
   "source": [
    "df.columns"
   ]
  },
  {
   "cell_type": "code",
   "execution_count": null,
   "id": "be26fc05",
   "metadata": {},
   "outputs": [],
   "source": [
    "z = df['Price'].fillna(\"0\")\n",
    "z"
   ]
  },
  {
   "cell_type": "code",
   "execution_count": null,
   "id": "556c6e75",
   "metadata": {},
   "outputs": [],
   "source": [
    "a = []\n",
    "for i in z.values:\n",
    "    if i == 'Ask for price':\n",
    "        a.append(\"0\")\n",
    "    else:\n",
    "        a.append(i)\n",
    "a[:5]"
   ]
  },
  {
   "cell_type": "code",
   "execution_count": null,
   "id": "1a86505b",
   "metadata": {},
   "outputs": [],
   "source": [
    "d_clean = []\n",
    "for n in a:\n",
    "    p = n.split(\",\")\n",
    "    d = \"\".join(p)\n",
    "    d_clean.append(d)\n",
    "print(d_clean[:5])"
   ]
  },
  {
   "cell_type": "code",
   "execution_count": null,
   "id": "d7bfbf35",
   "metadata": {},
   "outputs": [],
   "source": [
    "float_d = [float(i) for i in d_clean]\n",
    "#float_d"
   ]
  },
  {
   "cell_type": "code",
   "execution_count": null,
   "id": "6dfecb89",
   "metadata": {},
   "outputs": [],
   "source": [
    "df[\"price\"] = float_d"
   ]
  },
  {
   "cell_type": "code",
   "execution_count": null,
   "id": "1a27c986",
   "metadata": {},
   "outputs": [],
   "source": [
    "df.head(10)"
   ]
  },
  {
   "cell_type": "code",
   "execution_count": null,
   "id": "4ccc091c",
   "metadata": {},
   "outputs": [],
   "source": [
    "new_arr_df = new_arr_df[df_arr[\"Company name\"] == 'Hyundai']\n",
    "new_arr_df"
   ]
  },
  {
   "cell_type": "code",
   "execution_count": null,
   "id": "7d83e0b9",
   "metadata": {},
   "outputs": [],
   "source": [
    "###Question three"
   ]
  },
  {
   "cell_type": "code",
   "execution_count": null,
   "id": "50407da4",
   "metadata": {},
   "outputs": [],
   "source": [
    "##- Average price for each of the cars"
   ]
  },
  {
   "cell_type": "code",
   "execution_count": null,
   "id": "4a0253bc",
   "metadata": {},
   "outputs": [],
   "source": [
    "r = df.groupby('Company name')['price'].mean().sort_values(ascending=False).head(10)\n",
    "r"
   ]
  },
  {
   "cell_type": "code",
   "execution_count": null,
   "id": "ddcda311",
   "metadata": {},
   "outputs": [],
   "source": []
  }
 ],
 "metadata": {
  "kernelspec": {
   "display_name": "Python 3 (ipykernel)",
   "language": "python",
   "name": "python3"
  },
  "language_info": {
   "codemirror_mode": {
    "name": "ipython",
    "version": 3
   },
   "file_extension": ".py",
   "mimetype": "text/x-python",
   "name": "python",
   "nbconvert_exporter": "python",
   "pygments_lexer": "ipython3",
   "version": "3.9.13"
  }
 },
 "nbformat": 4,
 "nbformat_minor": 5
}
