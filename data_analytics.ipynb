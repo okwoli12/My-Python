{
 "cells": [
  {
   "cell_type": "code",
   "execution_count": 3,
   "id": "be48b00d",
   "metadata": {},
   "outputs": [
    {
     "name": "stdout",
     "output_type": "stream",
     "text": [
      "chioma\n"
     ]
    }
   ],
   "source": [
    "print(\"chioma\")"
   ]
  },
  {
   "cell_type": "markdown",
   "id": "a7934e1c",
   "metadata": {},
   "source": []
  },
  {
   "cell_type": "code",
   "execution_count": 4,
   "id": "d547a584",
   "metadata": {},
   "outputs": [
    {
     "name": "stdout",
     "output_type": "stream",
     "text": [
      "99.5\n"
     ]
    }
   ],
   "source": [
    "a=64.5\n",
    "b=35\n",
    "print(a+b)"
   ]
  },
  {
   "cell_type": "code",
   "execution_count": 5,
   "id": "ed5f55e0",
   "metadata": {},
   "outputs": [
    {
     "data": {
      "text/plain": [
       "float"
      ]
     },
     "execution_count": 5,
     "metadata": {},
     "output_type": "execute_result"
    }
   ],
   "source": [
    "type (a)"
   ]
  },
  {
   "cell_type": "raw",
   "id": "002c00b1",
   "metadata": {},
   "source": [
    "-strings\n",
    "-int\n",
    "-floats\n",
    "-booleans"
   ]
  },
  {
   "cell_type": "code",
   "execution_count": null,
   "id": "ca21e55c",
   "metadata": {},
   "outputs": [],
   "source": [
    "print(len(a))"
   ]
  },
  {
   "cell_type": "code",
   "execution_count": 54,
   "id": "1d41045e",
   "metadata": {},
   "outputs": [
    {
     "name": "stdout",
     "output_type": "stream",
     "text": [
      "hello, Timothy your score is 96\n"
     ]
    }
   ],
   "source": [
    "name = \"Timothy\"\n",
    "credit_score = 96\n",
    "print(f\"hello, {name} your score is {credit_score}\")\n"
   ]
  },
  {
   "cell_type": "code",
   "execution_count": 87,
   "id": "0f1efc87",
   "metadata": {},
   "outputs": [
    {
     "name": "stdout",
     "output_type": "stream",
     "text": [
      "enter nameTimothy\n",
      "enter date of birth:1988\n",
      "hello Timothy, you were born 35.0 years ago!\n"
     ]
    }
   ],
   "source": [
    "name = input('enter name')\n",
    "d_o_b = float(input('enter date of birth:')) ###string--- float\n",
    "age = 2023 -d_o_b\n",
    "print (f\"hello {name}, you were born {age} years ago!\")"
   ]
  },
  {
   "cell_type": "code",
   "execution_count": 1,
   "id": "7a8b5030",
   "metadata": {},
   "outputs": [
    {
     "name": "stdout",
     "output_type": "stream",
     "text": [
      "enter a: 8\n",
      "enter b: 10\n"
     ]
    },
    {
     "ename": "KeyboardInterrupt",
     "evalue": "Interrupted by user",
     "output_type": "error",
     "traceback": [
      "\u001b[1;31m---------------------------------------------------------------------------\u001b[0m",
      "\u001b[1;31mKeyboardInterrupt\u001b[0m                         Traceback (most recent call last)",
      "\u001b[1;32m~\\AppData\\Local\\Temp\\ipykernel_39720\\4080810198.py\u001b[0m in \u001b[0;36m<module>\u001b[1;34m\u001b[0m\n\u001b[0;32m      2\u001b[0m \u001b[0mb\u001b[0m \u001b[1;33m=\u001b[0m \u001b[0mfloat\u001b[0m\u001b[1;33m(\u001b[0m\u001b[0minput\u001b[0m\u001b[1;33m(\u001b[0m\u001b[1;34m\"enter a: \"\u001b[0m\u001b[1;33m)\u001b[0m\u001b[1;33m)\u001b[0m\u001b[1;33m\u001b[0m\u001b[1;33m\u001b[0m\u001b[0m\n\u001b[0;32m      3\u001b[0m \u001b[0ma\u001b[0m \u001b[1;33m=\u001b[0m \u001b[0mfloat\u001b[0m\u001b[1;33m(\u001b[0m\u001b[0minput\u001b[0m\u001b[1;33m(\u001b[0m\u001b[1;34m\"enter b: \"\u001b[0m\u001b[1;33m)\u001b[0m\u001b[1;33m)\u001b[0m\u001b[1;33m\u001b[0m\u001b[1;33m\u001b[0m\u001b[0m\n\u001b[1;32m----> 4\u001b[1;33m \u001b[0mc\u001b[0m \u001b[1;33m=\u001b[0m \u001b[0mfloat\u001b[0m\u001b[1;33m(\u001b[0m\u001b[0minput\u001b[0m\u001b[1;33m(\u001b[0m\u001b[1;34m\"enter c: \"\u001b[0m\u001b[1;33m)\u001b[0m\u001b[1;33m)\u001b[0m\u001b[1;33m\u001b[0m\u001b[1;33m\u001b[0m\u001b[0m\n\u001b[0m\u001b[0;32m      5\u001b[0m \u001b[0md\u001b[0m \u001b[1;33m=\u001b[0m  \u001b[1;33m(\u001b[0m\u001b[0mb\u001b[0m\u001b[1;33m**\u001b[0m\u001b[1;36m2\u001b[0m\u001b[1;33m)\u001b[0m \u001b[1;33m-\u001b[0m \u001b[1;33m(\u001b[0m\u001b[1;36m4\u001b[0m\u001b[1;33m*\u001b[0m\u001b[0ma\u001b[0m\u001b[1;33m*\u001b[0m\u001b[0mc\u001b[0m\u001b[1;33m)\u001b[0m\u001b[1;33m\u001b[0m\u001b[1;33m\u001b[0m\u001b[0m\n\u001b[0;32m      6\u001b[0m \u001b[0msqrt_d\u001b[0m \u001b[1;33m=\u001b[0m \u001b[0md\u001b[0m \u001b[1;33m**\u001b[0m \u001b[1;33m(\u001b[0m\u001b[1;36m1\u001b[0m\u001b[1;33m/\u001b[0m\u001b[1;36m2\u001b[0m\u001b[1;33m)\u001b[0m\u001b[1;33m\u001b[0m\u001b[1;33m\u001b[0m\u001b[0m\n",
      "\u001b[1;32m~\\anaconda3\\lib\\site-packages\\ipykernel\\kernelbase.py\u001b[0m in \u001b[0;36mraw_input\u001b[1;34m(self, prompt)\u001b[0m\n\u001b[0;32m   1175\u001b[0m                 \u001b[1;34m\"raw_input was called, but this frontend does not support input requests.\"\u001b[0m\u001b[1;33m\u001b[0m\u001b[1;33m\u001b[0m\u001b[0m\n\u001b[0;32m   1176\u001b[0m             )\n\u001b[1;32m-> 1177\u001b[1;33m         return self._input_request(\n\u001b[0m\u001b[0;32m   1178\u001b[0m             \u001b[0mstr\u001b[0m\u001b[1;33m(\u001b[0m\u001b[0mprompt\u001b[0m\u001b[1;33m)\u001b[0m\u001b[1;33m,\u001b[0m\u001b[1;33m\u001b[0m\u001b[1;33m\u001b[0m\u001b[0m\n\u001b[0;32m   1179\u001b[0m             \u001b[0mself\u001b[0m\u001b[1;33m.\u001b[0m\u001b[0m_parent_ident\u001b[0m\u001b[1;33m[\u001b[0m\u001b[1;34m\"shell\"\u001b[0m\u001b[1;33m]\u001b[0m\u001b[1;33m,\u001b[0m\u001b[1;33m\u001b[0m\u001b[1;33m\u001b[0m\u001b[0m\n",
      "\u001b[1;32m~\\anaconda3\\lib\\site-packages\\ipykernel\\kernelbase.py\u001b[0m in \u001b[0;36m_input_request\u001b[1;34m(self, prompt, ident, parent, password)\u001b[0m\n\u001b[0;32m   1217\u001b[0m             \u001b[1;32mexcept\u001b[0m \u001b[0mKeyboardInterrupt\u001b[0m\u001b[1;33m:\u001b[0m\u001b[1;33m\u001b[0m\u001b[1;33m\u001b[0m\u001b[0m\n\u001b[0;32m   1218\u001b[0m                 \u001b[1;31m# re-raise KeyboardInterrupt, to truncate traceback\u001b[0m\u001b[1;33m\u001b[0m\u001b[1;33m\u001b[0m\u001b[0m\n\u001b[1;32m-> 1219\u001b[1;33m                 \u001b[1;32mraise\u001b[0m \u001b[0mKeyboardInterrupt\u001b[0m\u001b[1;33m(\u001b[0m\u001b[1;34m\"Interrupted by user\"\u001b[0m\u001b[1;33m)\u001b[0m \u001b[1;32mfrom\u001b[0m \u001b[1;32mNone\u001b[0m\u001b[1;33m\u001b[0m\u001b[1;33m\u001b[0m\u001b[0m\n\u001b[0m\u001b[0;32m   1220\u001b[0m             \u001b[1;32mexcept\u001b[0m \u001b[0mException\u001b[0m\u001b[1;33m:\u001b[0m\u001b[1;33m\u001b[0m\u001b[1;33m\u001b[0m\u001b[0m\n\u001b[0;32m   1221\u001b[0m                 \u001b[0mself\u001b[0m\u001b[1;33m.\u001b[0m\u001b[0mlog\u001b[0m\u001b[1;33m.\u001b[0m\u001b[0mwarning\u001b[0m\u001b[1;33m(\u001b[0m\u001b[1;34m\"Invalid Message:\"\u001b[0m\u001b[1;33m,\u001b[0m \u001b[0mexc_info\u001b[0m\u001b[1;33m=\u001b[0m\u001b[1;32mTrue\u001b[0m\u001b[1;33m)\u001b[0m\u001b[1;33m\u001b[0m\u001b[1;33m\u001b[0m\u001b[0m\n",
      "\u001b[1;31mKeyboardInterrupt\u001b[0m: Interrupted by user"
     ]
    }
   ],
   "source": [
    "##assume b2 >4ac\n",
    "b = float(input(\"enter a: \"))\n",
    "a = float(input(\"enter b: \"))\n",
    "c = float(input(\"enter c: \"))\n",
    "d =  (b**2) - (4*a*c) \n",
    "sqrt_d = d ** (1/2)\n",
    "x1 = round((-b + sqrt_d)/(2*a), 3)\n",
    "x2 = round((-b - sqrt_d)/(2*a),3)\n",
    "print(x1, x2)\n"
   ]
  },
  {
   "cell_type": "code",
   "execution_count": null,
   "id": "b38394de",
   "metadata": {},
   "outputs": [],
   "source": [
    "###string methods"
   ]
  },
  {
   "cell_type": "code",
   "execution_count": null,
   "id": "db8e89ae",
   "metadata": {},
   "outputs": [],
   "source": [
    "a = \"jasmine\"\n",
    "type (a)"
   ]
  },
  {
   "cell_type": "code",
   "execution_count": 15,
   "id": "afdc4e04",
   "metadata": {},
   "outputs": [
    {
     "name": "stdout",
     "output_type": "stream",
     "text": [
      "JASMINE\n"
     ]
    }
   ],
   "source": [
    "print(a.upper())"
   ]
  },
  {
   "cell_type": "code",
   "execution_count": 16,
   "id": "7f054f1a",
   "metadata": {},
   "outputs": [
    {
     "data": {
      "text/plain": [
       "['don', 'mathew']"
      ]
     },
     "execution_count": 16,
     "metadata": {},
     "output_type": "execute_result"
    }
   ],
   "source": [
    "a = \"don-mathew\"\n",
    "a.split(\"-\")"
   ]
  },
  {
   "cell_type": "raw",
   "id": "a6d81645",
   "metadata": {},
   "source": [
    "--> lower()\n",
    "--> upper()\n",
    "--> split() "
   ]
  },
  {
   "cell_type": "code",
   "execution_count": 27,
   "id": "3e4783e9",
   "metadata": {},
   "outputs": [
    {
     "name": "stdout",
     "output_type": "stream",
     "text": [
      "5\n"
     ]
    }
   ],
   "source": [
    "c = \"ebuka\"\n",
    "print(len(c))"
   ]
  },
  {
   "cell_type": "code",
   "execution_count": null,
   "id": "30058d94",
   "metadata": {},
   "outputs": [],
   "source": [
    "index_val=c.index(\"k\")\n",
    "int(index_val)"
   ]
  },
  {
   "cell_type": "code",
   "execution_count": 58,
   "id": "51fda67f",
   "metadata": {},
   "outputs": [
    {
     "name": "stdout",
     "output_type": "stream",
     "text": [
      "7\n"
     ]
    }
   ],
   "source": [
    "b = \"timothy\"\n",
    "print (len(b))"
   ]
  },
  {
   "cell_type": "code",
   "execution_count": null,
   "id": "f25daa0c",
   "metadata": {},
   "outputs": [],
   "source": [
    "c[0]"
   ]
  },
  {
   "cell_type": "code",
   "execution_count": 37,
   "id": "33968692",
   "metadata": {},
   "outputs": [
    {
     "data": {
      "text/plain": [
       "'eb'"
      ]
     },
     "execution_count": 37,
     "metadata": {},
     "output_type": "execute_result"
    }
   ],
   "source": [
    "c[:2]"
   ]
  },
  {
   "cell_type": "markdown",
   "id": "5778581a",
   "metadata": {},
   "source": [
    "pos = c.index(\"a\")\n",
    "print(pos)\n",
    "lst = c[:-a] = c[pos].upper()\n",
    "print(lst)"
   ]
  },
  {
   "cell_type": "code",
   "execution_count": 1,
   "id": "0f249261",
   "metadata": {},
   "outputs": [
    {
     "name": "stdout",
     "output_type": "stream",
     "text": [
      "ebuka\n"
     ]
    }
   ],
   "source": [
    "val = \"ebuka\"\n",
    "print(val)"
   ]
  },
  {
   "cell_type": "code",
   "execution_count": null,
   "id": "433230b0",
   "metadata": {},
   "outputs": [],
   "source": [
    "val[2:-1]"
   ]
  },
  {
   "cell_type": "code",
   "execution_count": null,
   "id": "50d8a57c",
   "metadata": {},
   "outputs": [],
   "source": [
    "print (c)"
   ]
  },
  {
   "cell_type": "code",
   "execution_count": 28,
   "id": "ebe718ae",
   "metadata": {},
   "outputs": [],
   "source": [
    "name = \"kate\"\n",
    "surname = \"miller\"\n",
    "#--> KATE miller"
   ]
  },
  {
   "cell_type": "code",
   "execution_count": 29,
   "id": "1d39bc8f",
   "metadata": {},
   "outputs": [
    {
     "name": "stdout",
     "output_type": "stream",
     "text": [
      "kate\n"
     ]
    }
   ],
   "source": [
    "a = \"kate\"\n",
    "print(a)"
   ]
  },
  {
   "cell_type": "code",
   "execution_count": 30,
   "id": "0a46b30a",
   "metadata": {},
   "outputs": [
    {
     "name": "stdout",
     "output_type": "stream",
     "text": [
      "kate miller\n"
     ]
    }
   ],
   "source": [
    "k = \"kate\"\n",
    "m = \"miller\"\n",
    "print (k,m)"
   ]
  },
  {
   "cell_type": "code",
   "execution_count": 31,
   "id": "db3ebfe2",
   "metadata": {},
   "outputs": [
    {
     "name": "stdout",
     "output_type": "stream",
     "text": [
      "KATE miller\n"
     ]
    }
   ],
   "source": [
    "k = \"KATE\"\n",
    "m = \"miller\"\n",
    "print (k, m)"
   ]
  },
  {
   "cell_type": "code",
   "execution_count": null,
   "id": "b1f87172",
   "metadata": {},
   "outputs": [],
   "source": [
    "a = name.upper()\n",
    "pos = surmane.index(\"r\")\n",
    "b = surname[:-1] + surname[pos].upper()\n",
    "print (f\"{a} {b}\")"
   ]
  },
  {
   "cell_type": "code",
   "execution_count": null,
   "id": "23c91173",
   "metadata": {},
   "outputs": [],
   "source": [
    "index ()\n",
    "lower ()\n",
    "upper ()\n",
    "split ()"
   ]
  },
  {
   "cell_type": "markdown",
   "id": "4cca9ca0",
   "metadata": {},
   "source": [
    "array,list,indexing==>[]\n",
    "calling a string or variables (formatted string), objects ==> ()\n",
    "tupples, printing a values, calling a method ==> ()"
   ]
  },
  {
   "cell_type": "code",
   "execution_count": 63,
   "id": "e71df307",
   "metadata": {},
   "outputs": [
    {
     "name": "stdout",
     "output_type": "stream",
     "text": [
      "[8, 1, 2] martha\n"
     ]
    }
   ],
   "source": [
    "k = \"timothy\"\n",
    "m = \"martha\"\n",
    "print(t, m)"
   ]
  },
  {
   "cell_type": "code",
   "execution_count": 41,
   "id": "98aefd6a",
   "metadata": {},
   "outputs": [
    {
     "name": "stdout",
     "output_type": "stream",
     "text": [
      "timothy martha\n"
     ]
    }
   ],
   "source": [
    "t = \"timothy\"\n",
    "m = \"martha\"\n",
    "print(t, m)"
   ]
  },
  {
   "cell_type": "code",
   "execution_count": 6,
   "id": "dab8b5d3",
   "metadata": {},
   "outputs": [
    {
     "ename": "KeyboardInterrupt",
     "evalue": "Interrupted by user",
     "output_type": "error",
     "traceback": [
      "\u001b[1;31m---------------------------------------------------------------------------\u001b[0m",
      "\u001b[1;31mKeyboardInterrupt\u001b[0m                         Traceback (most recent call last)",
      "\u001b[1;32m~\\AppData\\Local\\Temp\\ipykernel_39720\\4080810198.py\u001b[0m in \u001b[0;36m<module>\u001b[1;34m\u001b[0m\n\u001b[0;32m      1\u001b[0m \u001b[1;31m##assume b2 >4ac\u001b[0m\u001b[1;33m\u001b[0m\u001b[1;33m\u001b[0m\u001b[0m\n\u001b[1;32m----> 2\u001b[1;33m \u001b[0mb\u001b[0m \u001b[1;33m=\u001b[0m \u001b[0mfloat\u001b[0m\u001b[1;33m(\u001b[0m\u001b[0minput\u001b[0m\u001b[1;33m(\u001b[0m\u001b[1;34m\"enter a: \"\u001b[0m\u001b[1;33m)\u001b[0m\u001b[1;33m)\u001b[0m\u001b[1;33m\u001b[0m\u001b[1;33m\u001b[0m\u001b[0m\n\u001b[0m\u001b[0;32m      3\u001b[0m \u001b[0ma\u001b[0m \u001b[1;33m=\u001b[0m \u001b[0mfloat\u001b[0m\u001b[1;33m(\u001b[0m\u001b[0minput\u001b[0m\u001b[1;33m(\u001b[0m\u001b[1;34m\"enter b: \"\u001b[0m\u001b[1;33m)\u001b[0m\u001b[1;33m)\u001b[0m\u001b[1;33m\u001b[0m\u001b[1;33m\u001b[0m\u001b[0m\n\u001b[0;32m      4\u001b[0m \u001b[0mc\u001b[0m \u001b[1;33m=\u001b[0m \u001b[0mfloat\u001b[0m\u001b[1;33m(\u001b[0m\u001b[0minput\u001b[0m\u001b[1;33m(\u001b[0m\u001b[1;34m\"enter c: \"\u001b[0m\u001b[1;33m)\u001b[0m\u001b[1;33m)\u001b[0m\u001b[1;33m\u001b[0m\u001b[1;33m\u001b[0m\u001b[0m\n\u001b[0;32m      5\u001b[0m \u001b[0md\u001b[0m \u001b[1;33m=\u001b[0m  \u001b[1;33m(\u001b[0m\u001b[0mb\u001b[0m\u001b[1;33m**\u001b[0m\u001b[1;36m2\u001b[0m\u001b[1;33m)\u001b[0m \u001b[1;33m-\u001b[0m \u001b[1;33m(\u001b[0m\u001b[1;36m4\u001b[0m\u001b[1;33m*\u001b[0m\u001b[0ma\u001b[0m\u001b[1;33m*\u001b[0m\u001b[0mc\u001b[0m\u001b[1;33m)\u001b[0m\u001b[1;33m\u001b[0m\u001b[1;33m\u001b[0m\u001b[0m\n",
      "\u001b[1;32m~\\anaconda3\\lib\\site-packages\\ipykernel\\kernelbase.py\u001b[0m in \u001b[0;36mraw_input\u001b[1;34m(self, prompt)\u001b[0m\n\u001b[0;32m   1175\u001b[0m                 \u001b[1;34m\"raw_input was called, but this frontend does not support input requests.\"\u001b[0m\u001b[1;33m\u001b[0m\u001b[1;33m\u001b[0m\u001b[0m\n\u001b[0;32m   1176\u001b[0m             )\n\u001b[1;32m-> 1177\u001b[1;33m         return self._input_request(\n\u001b[0m\u001b[0;32m   1178\u001b[0m             \u001b[0mstr\u001b[0m\u001b[1;33m(\u001b[0m\u001b[0mprompt\u001b[0m\u001b[1;33m)\u001b[0m\u001b[1;33m,\u001b[0m\u001b[1;33m\u001b[0m\u001b[1;33m\u001b[0m\u001b[0m\n\u001b[0;32m   1179\u001b[0m             \u001b[0mself\u001b[0m\u001b[1;33m.\u001b[0m\u001b[0m_parent_ident\u001b[0m\u001b[1;33m[\u001b[0m\u001b[1;34m\"shell\"\u001b[0m\u001b[1;33m]\u001b[0m\u001b[1;33m,\u001b[0m\u001b[1;33m\u001b[0m\u001b[1;33m\u001b[0m\u001b[0m\n",
      "\u001b[1;32m~\\anaconda3\\lib\\site-packages\\ipykernel\\kernelbase.py\u001b[0m in \u001b[0;36m_input_request\u001b[1;34m(self, prompt, ident, parent, password)\u001b[0m\n\u001b[0;32m   1217\u001b[0m             \u001b[1;32mexcept\u001b[0m \u001b[0mKeyboardInterrupt\u001b[0m\u001b[1;33m:\u001b[0m\u001b[1;33m\u001b[0m\u001b[1;33m\u001b[0m\u001b[0m\n\u001b[0;32m   1218\u001b[0m                 \u001b[1;31m# re-raise KeyboardInterrupt, to truncate traceback\u001b[0m\u001b[1;33m\u001b[0m\u001b[1;33m\u001b[0m\u001b[0m\n\u001b[1;32m-> 1219\u001b[1;33m                 \u001b[1;32mraise\u001b[0m \u001b[0mKeyboardInterrupt\u001b[0m\u001b[1;33m(\u001b[0m\u001b[1;34m\"Interrupted by user\"\u001b[0m\u001b[1;33m)\u001b[0m \u001b[1;32mfrom\u001b[0m \u001b[1;32mNone\u001b[0m\u001b[1;33m\u001b[0m\u001b[1;33m\u001b[0m\u001b[0m\n\u001b[0m\u001b[0;32m   1220\u001b[0m             \u001b[1;32mexcept\u001b[0m \u001b[0mException\u001b[0m\u001b[1;33m:\u001b[0m\u001b[1;33m\u001b[0m\u001b[1;33m\u001b[0m\u001b[0m\n\u001b[0;32m   1221\u001b[0m                 \u001b[0mself\u001b[0m\u001b[1;33m.\u001b[0m\u001b[0mlog\u001b[0m\u001b[1;33m.\u001b[0m\u001b[0mwarning\u001b[0m\u001b[1;33m(\u001b[0m\u001b[1;34m\"Invalid Message:\"\u001b[0m\u001b[1;33m,\u001b[0m \u001b[0mexc_info\u001b[0m\u001b[1;33m=\u001b[0m\u001b[1;32mTrue\u001b[0m\u001b[1;33m)\u001b[0m\u001b[1;33m\u001b[0m\u001b[1;33m\u001b[0m\u001b[0m\n",
      "\u001b[1;31mKeyboardInterrupt\u001b[0m: Interrupted by user"
     ]
    }
   ],
   "source": [
    "##assume b2 >4ac\n",
    "b = float(input(\"enter a: \"))\n",
    "a = float(input(\"enter b: \"))\n",
    "c = float(input(\"enter c: \"))\n",
    "d =  (b**2) - (4*a*c) \n",
    "sqrt_d = d ** (1/2)\n",
    "x1 = round((-b + sqrt_d)/(2*a), 3)\n",
    "x2 = round((-b - sqrt_d)/(2*a),3)\n",
    "print(x1, x2)\n"
   ]
  },
  {
   "cell_type": "code",
   "execution_count": 48,
   "id": "4ad80cd2",
   "metadata": {},
   "outputs": [
    {
     "name": "stdout",
     "output_type": "stream",
     "text": [
      "tempereature is out of control\n"
     ]
    }
   ],
   "source": [
    "temp = -0.5\n",
    "if temp > 50:\n",
    "    print(\"tempeature is high!\")\n",
    "elif temp >=30 and temp <= 50:\n",
    "    print(\"tempeature is normal!\")\n",
    "elif temp >= 10 and temp <= 29:\n",
    "    print(\"temperature is low!, but manageable\")\n",
    "else:\n",
    "    print(\"tempereature is out of control\")"
   ]
  },
  {
   "cell_type": "code",
   "execution_count": null,
   "id": "b7e19cb3",
   "metadata": {},
   "outputs": [],
   "source": [
    "temp = float(input(\"enter temperature value: \"))\n",
    "unit = input(\"enter unit(f/c): \").lower()\n",
    "if unit == \"f\":\n",
    "    cel = round(5/9*(temp - 32), 3)\n",
    "    print(f\"the tempeature from fahr to celcius is {cel} celcius\")\n",
    "elif unit == \"c\":\n",
    "    fahr = round((9/5*temp) + 32, 3)\n",
    "    print(f\"the temperature from celcius to fahr is {fahr} fahrenheit\")\n",
    "    else:\n",
    "        print(\"input not understodd\")"
   ]
  },
  {
   "cell_type": "code",
   "execution_count": 57,
   "id": "b5e9a067",
   "metadata": {},
   "outputs": [
    {
     "name": "stdout",
     "output_type": "stream",
     "text": [
      "enter temperature value: 10\n",
      "enter unit(f/c): f\n",
      "the tempeature from fahr to kelvin is 260.778 kelvin\n"
     ]
    }
   ],
   "source": [
    "temp = float(input(\"enter temperature value: \"))\n",
    "unit = input(\"enter unit(f/c): \").lower()\n",
    "\n",
    "if unit == \"f\":\n",
    "    cel = round(5/9*(temp - 32), 3)\n",
    "    if cel <= 0:\n",
    "        kel =cel + 273\n",
    "        print(f\"the tempeature from fahr to kelvin is {kel} kelvin\")\n",
    "    else:\n",
    "        print(f\"the temperature from fahr to celcius is {cel} celcuis\")\n",
    "elif unit == \"c\":\n",
    "    fahr = round((9/5*temp) + 32, 3)\n",
    "    print(f\"the temperature from celcuis to fahr is {fahr} fahrenheit\")\n",
    "else:\n",
    "    print(\"input not understodd\")"
   ]
  },
  {
   "cell_type": "code",
   "execution_count": 58,
   "id": "d2ffe56e",
   "metadata": {},
   "outputs": [
    {
     "name": "stdout",
     "output_type": "stream",
     "text": [
      "['ada', 'chioma', 'adaobi', 'mfon']\n"
     ]
    }
   ],
   "source": [
    "###list or array\n",
    "names = [\"ada\", 'chioma','adaobi',\"mfon\"]\n",
    "print(names)"
   ]
  },
  {
   "cell_type": "code",
   "execution_count": 61,
   "id": "17dec1ef",
   "metadata": {},
   "outputs": [
    {
     "data": {
      "text/plain": [
       "True"
      ]
     },
     "execution_count": 61,
     "metadata": {},
     "output_type": "execute_result"
    }
   ],
   "source": [
    "names[2][0] == \"a\""
   ]
  },
  {
   "cell_type": "code",
   "execution_count": 62,
   "id": "c909f85c",
   "metadata": {},
   "outputs": [
    {
     "name": "stdout",
     "output_type": "stream",
     "text": [
      "ada\n",
      "chioma\n",
      "adaobi\n",
      "mfon\n"
     ]
    }
   ],
   "source": [
    "for i in names:\n",
    "    print (i)"
   ]
  },
  {
   "cell_type": "code",
   "execution_count": 11,
   "id": "d8fbbe65",
   "metadata": {},
   "outputs": [
    {
     "ename": "NameError",
     "evalue": "name 'names' is not defined",
     "output_type": "error",
     "traceback": [
      "\u001b[1;31m---------------------------------------------------------------------------\u001b[0m",
      "\u001b[1;31mNameError\u001b[0m                                 Traceback (most recent call last)",
      "\u001b[1;32m~\\AppData\\Local\\Temp\\ipykernel_39720\\668309138.py\u001b[0m in \u001b[0;36m<module>\u001b[1;34m\u001b[0m\n\u001b[0;32m      1\u001b[0m \u001b[0mstart_a\u001b[0m \u001b[1;33m=\u001b[0m \u001b[1;33m[\u001b[0m\u001b[1;33m]\u001b[0m\u001b[1;33m\u001b[0m\u001b[1;33m\u001b[0m\u001b[0m\n\u001b[0;32m      2\u001b[0m \u001b[0mstart_c\u001b[0m \u001b[1;33m=\u001b[0m \u001b[1;33m[\u001b[0m\u001b[1;33m]\u001b[0m\u001b[1;33m\u001b[0m\u001b[1;33m\u001b[0m\u001b[0m\n\u001b[1;32m----> 3\u001b[1;33m \u001b[1;32mfor\u001b[0m \u001b[0mi\u001b[0m \u001b[1;32min\u001b[0m \u001b[0mnames\u001b[0m\u001b[1;33m:\u001b[0m\u001b[1;33m\u001b[0m\u001b[1;33m\u001b[0m\u001b[0m\n\u001b[0m\u001b[0;32m      4\u001b[0m     \u001b[1;32mif\u001b[0m \u001b[0mi\u001b[0m\u001b[1;33m[\u001b[0m\u001b[1;36m0\u001b[0m\u001b[1;33m]\u001b[0m \u001b[1;33m==\u001b[0m \u001b[1;34m\"a\"\u001b[0m\u001b[1;33m:\u001b[0m\u001b[1;33m\u001b[0m\u001b[1;33m\u001b[0m\u001b[0m\n\u001b[0;32m      5\u001b[0m         \u001b[0mstart_a\u001b[0m\u001b[1;33m.\u001b[0m\u001b[0mappend\u001b[0m\u001b[1;33m(\u001b[0m\u001b[0mi\u001b[0m\u001b[1;33m)\u001b[0m\u001b[1;33m\u001b[0m\u001b[1;33m\u001b[0m\u001b[0m\n",
      "\u001b[1;31mNameError\u001b[0m: name 'names' is not defined"
     ]
    }
   ],
   "source": [
    "start_a = []\n",
    "start_c = []\n",
    "for i in names:\n",
    "    if i[0] == \"a\":\n",
    "        start_a.append(i)\n",
    "    elif i[0] == \"c\":\n",
    "        start_c.append(i)\n",
    "print(start_c)"
   ]
  },
  {
   "cell_type": "code",
   "execution_count": 76,
   "id": "4edde20c",
   "metadata": {},
   "outputs": [
    {
     "name": "stdout",
     "output_type": "stream",
     "text": [
      "jude\n"
     ]
    }
   ],
   "source": [
    "arr = [20, 19.5, 10.11,\"jude\", True, False, 12]\n",
    "for i in arr:\n",
    "    if type(i) == str:\n",
    "        print(i)"
   ]
  },
  {
   "cell_type": "code",
   "execution_count": 78,
   "id": "899d32ea",
   "metadata": {},
   "outputs": [
    {
     "name": "stdout",
     "output_type": "stream",
     "text": [
      "[20, 19.5, 10.11, 12]\n"
     ]
    }
   ],
   "source": [
    "numeric = []\n",
    "for i in arr:\n",
    "    if type(i) == str:\n",
    "        pass\n",
    "    elif type(i) == bool:\n",
    "        pass\n",
    "    else:\n",
    "        numeric.append(i)\n",
    "print(numeric)\n",
    "        \n",
    "    \n"
   ]
  },
  {
   "cell_type": "code",
   "execution_count": 80,
   "id": "51925d59",
   "metadata": {},
   "outputs": [
    {
     "name": "stdout",
     "output_type": "stream",
     "text": [
      "['uriel']\n",
      "['jame', 'elizey', 'lime']\n"
     ]
    }
   ],
   "source": [
    "name_vals = [\"jame\", \"uriel\", \"elizey\", \"lime\"]\n",
    "even_names = []\n",
    "odd_names = []\n",
    "for i in name_vals:\n",
    "    count = len(i)\n",
    "    if count%2 == 0:\n",
    "        even_names.append(i)\n",
    "    else:\n",
    "        odd_names.append(i)\n",
    "print(odd_names)\n",
    "print(even_names)\n"
   ]
  },
  {
   "cell_type": "code",
   "execution_count": null,
   "id": "37cb8d0d",
   "metadata": {},
   "outputs": [],
   "source": [
    "names = [\"kate\", \"abi\", \"chirstiana\", \"chioma\"]\n",
    "= [kate, Abi, christiana, chioma]"
   ]
  },
  {
   "cell_type": "code",
   "execution_count": 81,
   "id": "733d368d",
   "metadata": {},
   "outputs": [],
   "source": [
    "# take a square root of the even number\n",
    "# and store inside an array"
   ]
  },
  {
   "cell_type": "code",
   "execution_count": 82,
   "id": "41641b9a",
   "metadata": {
    "scrolled": true
   },
   "outputs": [
    {
     "name": "stdout",
     "output_type": "stream",
     "text": [
      "3\n",
      "7\n",
      "9\n",
      "21\n",
      "13\n",
      "7\n"
     ]
    }
   ],
   "source": [
    "d = [8, 3, 7, 9, 12, 14, 21, 13, 4, 7]\n",
    "for i in d:\n",
    "    if i%2 != 0:\n",
    "        print(i)"
   ]
  },
  {
   "cell_type": "code",
   "execution_count": null,
   "id": "8579f996",
   "metadata": {},
   "outputs": [],
   "source": []
  },
  {
   "cell_type": "code",
   "execution_count": 15,
   "id": "06cddb46",
   "metadata": {},
   "outputs": [
    {
     "name": "stdout",
     "output_type": "stream",
     "text": [
      "enter a: 8\n",
      "enter b: 3\n"
     ]
    },
    {
     "ename": "KeyboardInterrupt",
     "evalue": "Interrupted by user",
     "output_type": "error",
     "traceback": [
      "\u001b[1;31m---------------------------------------------------------------------------\u001b[0m",
      "\u001b[1;31mKeyboardInterrupt\u001b[0m                         Traceback (most recent call last)",
      "\u001b[1;32m~\\AppData\\Local\\Temp\\ipykernel_22456\\2900933487.py\u001b[0m in \u001b[0;36m<module>\u001b[1;34m\u001b[0m\n\u001b[0;32m      1\u001b[0m \u001b[0ma\u001b[0m \u001b[1;33m=\u001b[0m \u001b[0mint\u001b[0m\u001b[1;33m(\u001b[0m\u001b[0minput\u001b[0m\u001b[1;33m(\u001b[0m\u001b[1;34m\"enter a: \"\u001b[0m\u001b[1;33m)\u001b[0m\u001b[1;33m)\u001b[0m\u001b[1;33m\u001b[0m\u001b[1;33m\u001b[0m\u001b[0m\n\u001b[0;32m      2\u001b[0m \u001b[0mb\u001b[0m \u001b[1;33m=\u001b[0m \u001b[0mint\u001b[0m\u001b[1;33m(\u001b[0m\u001b[0minput\u001b[0m\u001b[1;33m(\u001b[0m\u001b[1;34m\"enter b: \"\u001b[0m\u001b[1;33m)\u001b[0m\u001b[1;33m)\u001b[0m\u001b[1;33m\u001b[0m\u001b[1;33m\u001b[0m\u001b[0m\n\u001b[1;32m----> 3\u001b[1;33m \u001b[0mc\u001b[0m \u001b[1;33m=\u001b[0m \u001b[0mint\u001b[0m\u001b[1;33m(\u001b[0m\u001b[0minput\u001b[0m\u001b[1;33m(\u001b[0m\u001b[1;34m\"enter c: \"\u001b[0m\u001b[1;33m)\u001b[0m\u001b[1;33m)\u001b[0m\u001b[1;33m\u001b[0m\u001b[1;33m\u001b[0m\u001b[0m\n\u001b[0m\u001b[0;32m      4\u001b[0m \u001b[0md\u001b[0m \u001b[1;33m=\u001b[0m \u001b[0mint\u001b[0m\u001b[1;33m(\u001b[0m\u001b[0minput\u001b[0m\u001b[1;33m(\u001b[0m\u001b[1;34m\"enter d: \"\u001b[0m\u001b[1;33m)\u001b[0m\u001b[1;33m)\u001b[0m\u001b[1;33m\u001b[0m\u001b[1;33m\u001b[0m\u001b[0m\n\u001b[0;32m      5\u001b[0m \u001b[0ma1\u001b[0m \u001b[1;33m=\u001b[0m \u001b[0ma\u001b[0m\u001b[1;33m**\u001b[0m \u001b[1;33m(\u001b[0m\u001b[1;36m1\u001b[0m\u001b[1;33m/\u001b[0m\u001b[1;36m2\u001b[0m\u001b[1;33m)\u001b[0m\u001b[1;33m\u001b[0m\u001b[1;33m\u001b[0m\u001b[0m\n",
      "\u001b[1;32m~\\anaconda3\\lib\\site-packages\\ipykernel\\kernelbase.py\u001b[0m in \u001b[0;36mraw_input\u001b[1;34m(self, prompt)\u001b[0m\n\u001b[0;32m   1175\u001b[0m                 \u001b[1;34m\"raw_input was called, but this frontend does not support input requests.\"\u001b[0m\u001b[1;33m\u001b[0m\u001b[1;33m\u001b[0m\u001b[0m\n\u001b[0;32m   1176\u001b[0m             )\n\u001b[1;32m-> 1177\u001b[1;33m         return self._input_request(\n\u001b[0m\u001b[0;32m   1178\u001b[0m             \u001b[0mstr\u001b[0m\u001b[1;33m(\u001b[0m\u001b[0mprompt\u001b[0m\u001b[1;33m)\u001b[0m\u001b[1;33m,\u001b[0m\u001b[1;33m\u001b[0m\u001b[1;33m\u001b[0m\u001b[0m\n\u001b[0;32m   1179\u001b[0m             \u001b[0mself\u001b[0m\u001b[1;33m.\u001b[0m\u001b[0m_parent_ident\u001b[0m\u001b[1;33m[\u001b[0m\u001b[1;34m\"shell\"\u001b[0m\u001b[1;33m]\u001b[0m\u001b[1;33m,\u001b[0m\u001b[1;33m\u001b[0m\u001b[1;33m\u001b[0m\u001b[0m\n",
      "\u001b[1;32m~\\anaconda3\\lib\\site-packages\\ipykernel\\kernelbase.py\u001b[0m in \u001b[0;36m_input_request\u001b[1;34m(self, prompt, ident, parent, password)\u001b[0m\n\u001b[0;32m   1217\u001b[0m             \u001b[1;32mexcept\u001b[0m \u001b[0mKeyboardInterrupt\u001b[0m\u001b[1;33m:\u001b[0m\u001b[1;33m\u001b[0m\u001b[1;33m\u001b[0m\u001b[0m\n\u001b[0;32m   1218\u001b[0m                 \u001b[1;31m# re-raise KeyboardInterrupt, to truncate traceback\u001b[0m\u001b[1;33m\u001b[0m\u001b[1;33m\u001b[0m\u001b[0m\n\u001b[1;32m-> 1219\u001b[1;33m                 \u001b[1;32mraise\u001b[0m \u001b[0mKeyboardInterrupt\u001b[0m\u001b[1;33m(\u001b[0m\u001b[1;34m\"Interrupted by user\"\u001b[0m\u001b[1;33m)\u001b[0m \u001b[1;32mfrom\u001b[0m \u001b[1;32mNone\u001b[0m\u001b[1;33m\u001b[0m\u001b[1;33m\u001b[0m\u001b[0m\n\u001b[0m\u001b[0;32m   1220\u001b[0m             \u001b[1;32mexcept\u001b[0m \u001b[0mException\u001b[0m\u001b[1;33m:\u001b[0m\u001b[1;33m\u001b[0m\u001b[1;33m\u001b[0m\u001b[0m\n\u001b[0;32m   1221\u001b[0m                 \u001b[0mself\u001b[0m\u001b[1;33m.\u001b[0m\u001b[0mlog\u001b[0m\u001b[1;33m.\u001b[0m\u001b[0mwarning\u001b[0m\u001b[1;33m(\u001b[0m\u001b[1;34m\"Invalid Message:\"\u001b[0m\u001b[1;33m,\u001b[0m \u001b[0mexc_info\u001b[0m\u001b[1;33m=\u001b[0m\u001b[1;32mTrue\u001b[0m\u001b[1;33m)\u001b[0m\u001b[1;33m\u001b[0m\u001b[1;33m\u001b[0m\u001b[0m\n",
      "\u001b[1;31mKeyboardInterrupt\u001b[0m: Interrupted by user"
     ]
    }
   ],
   "source": [
    "a = int(input(\"enter a: \"))\n",
    "b = int(input(\"enter b: \"))\n",
    "c = int(input(\"enter c: \"))\n",
    "d = int(input(\"enter d: \"))\n",
    "a1 = a** (1/2)\n",
    "b1 = b** (1/2)\n",
    "c1 = c** (1/2)\n",
    "di = d** (1/2)\n",
    "print(a1, b1, c1, d1)"
   ]
  },
  {
   "cell_type": "code",
   "execution_count": 16,
   "id": "7ad1da93",
   "metadata": {},
   "outputs": [
    {
     "name": "stdout",
     "output_type": "stream",
     "text": [
      "kate\n",
      "abi\n",
      "chirstiana\n",
      "chioma\n"
     ]
    }
   ],
   "source": [
    "names = [\"kate\", \"abi\", \"chirstiana\", \"chioma\"]\n",
    "for i in names:\n",
    "    print(i)"
   ]
  },
  {
   "cell_type": "code",
   "execution_count": 22,
   "id": "1031db4f",
   "metadata": {},
   "outputs": [
    {
     "name": "stdout",
     "output_type": "stream",
     "text": [
      "['Kate', 'Abi', 'Chirstiana', 'Chioma', 'Yemi']\n"
     ]
    }
   ],
   "source": [
    "names = [\"kate\",\"abi\",\"chirstiana\",\"chioma\",\"yemi\"]\n",
    "name_two = []\n",
    "for i in names:\n",
    "    new_name = i[0].upper() + i[1:]\n",
    "    name_two.append(new_name)\n",
    "print(name_two)\n",
    "\n"
   ]
  },
  {
   "cell_type": "code",
   "execution_count": 18,
   "id": "3a462a5f",
   "metadata": {},
   "outputs": [
    {
     "name": "stdout",
     "output_type": "stream",
     "text": [
      "['Kate', 'Abi', 'Chirstiana', 'Chioma', 'Yemi']\n"
     ]
    }
   ],
   "source": [
    "names = [\"kate\",\"abi\",\"chirstiana\",\"chioma\",\"yemi\"]\n",
    "name_two = []\n",
    "for i in names:\n",
    "    new_name = i[0].upper() + i[1:]\n",
    "    name_two.append(new_name)\n",
    "print(name_two)\n",
    "    "
   ]
  },
  {
   "cell_type": "code",
   "execution_count": 21,
   "id": "e048db17",
   "metadata": {},
   "outputs": [
    {
     "name": "stdout",
     "output_type": "stream",
     "text": [
      "[[5, 7, 1], 1, 5, 4]\n"
     ]
    }
   ],
   "source": [
    "a = [1,2,5]\n",
    "b = [8,6,1]\n",
    "k = [[5,7,1],1,5,4]\n",
    "print(k)"
   ]
  },
  {
   "cell_type": "code",
   "execution_count": 25,
   "id": "1713a9c1",
   "metadata": {},
   "outputs": [
    {
     "name": "stdout",
     "output_type": "stream",
     "text": [
      "[5, 7, 1, 1, 5, 4]\n"
     ]
    }
   ],
   "source": [
    "d = []\n",
    "for i in k:\n",
    "    if type(i) == list:\n",
    "        for n in i:\n",
    "            d.append(n)\n",
    "    elif type(i) == int:\n",
    "        d.append(i)\n",
    "print(d)"
   ]
  },
  {
   "cell_type": "code",
   "execution_count": 26,
   "id": "ec9977ce",
   "metadata": {},
   "outputs": [
    {
     "name": "stdout",
     "output_type": "stream",
     "text": [
      "p-e-t-e-r\n",
      "['p', 'e', 't', 'e', 'r']\n"
     ]
    }
   ],
   "source": [
    "x = \"peter\"\n",
    "y = \"-\".join(x)\n",
    "d = y.split(\"-\")\n",
    "print(y)\n",
    "print(d)"
   ]
  },
  {
   "cell_type": "code",
   "execution_count": 36,
   "id": "cf8180c9",
   "metadata": {},
   "outputs": [
    {
     "name": "stdout",
     "output_type": "stream",
     "text": [
      "8\n",
      "1\n"
     ]
    }
   ],
   "source": [
    "x = [2,5,10]\n",
    "t = [8, 1, 2]\n",
    "for i in t:\n",
    "    if i not in x:\n",
    "        print(i)"
   ]
  },
  {
   "cell_type": "code",
   "execution_count": 25,
   "id": "9c5eedfb",
   "metadata": {},
   "outputs": [
    {
     "ename": "SyntaxError",
     "evalue": "invalid syntax (990416303.py, line 6)",
     "output_type": "error",
     "traceback": [
      "\u001b[1;36m  File \u001b[1;32m\"C:\\Users\\ABDULRASHID\\AppData\\Local\\Temp\\ipykernel_22456\\990416303.py\"\u001b[1;36m, line \u001b[1;32m6\u001b[0m\n\u001b[1;33m    for i in a\u001b[0m\n\u001b[1;37m              ^\u001b[0m\n\u001b[1;31mSyntaxError\u001b[0m\u001b[1;31m:\u001b[0m invalid syntax\n"
     ]
    }
   ],
   "source": [
    "z = []\n",
    "a = \"divinewillo\"\n",
    "vowell = \"aeiou\"\n",
    "v = v.join(vowels).split(\"-\")\n",
    "print(v)\n",
    "for i in a\"\n",
    "if i in v:\n",
    "    print(i)\n",
    "    z,append(i)\n",
    "print(z)\n",
    "y = set(z)\n",
    "y_list = list(y)\n",
    "len(y_list)\n",
    "vowel_count = list(set(z))\n",
    "print(len(vowel_count))"
   ]
  },
  {
   "cell_type": "code",
   "execution_count": 11,
   "id": "1119feae",
   "metadata": {},
   "outputs": [
    {
     "name": "stdout",
     "output_type": "stream",
     "text": [
      "[1, 2, 8]\n"
     ]
    }
   ],
   "source": [
    "arr = [1, 8, 8, 1, 2]\n",
    "c = list(set(arr))\n",
    "c.sort()\n",
    "print(c)"
   ]
  },
  {
   "cell_type": "code",
   "execution_count": 39,
   "id": "29600995",
   "metadata": {},
   "outputs": [
    {
     "name": "stdout",
     "output_type": "stream",
     "text": [
      "59\n"
     ]
    }
   ],
   "source": [
    "arr = [1, 10, 11, 18, 19]\n",
    "sum_val = 0\n",
    "for i in arr:\n",
    "    sum_val = sum_val + i\n",
    "print(sum_val)"
   ]
  },
  {
   "cell_type": "code",
   "execution_count": null,
   "id": "ff7cadde",
   "metadata": {},
   "outputs": [],
   "source": [
    "# sum all the values in the list and freturn a of the summed list\n",
    "arra = [,7,11, [6, 8, 9], [4, 20], 9, 8, [5, 10, 12]]"
   ]
  },
  {
   "cell_type": "code",
   "execution_count": 14,
   "id": "b3364168",
   "metadata": {},
   "outputs": [
    {
     "ename": "SyntaxError",
     "evalue": "invalid syntax (1686760075.py, line 4)",
     "output_type": "error",
     "traceback": [
      "\u001b[1;36m  File \u001b[1;32m\"C:\\Users\\ABDULRASHID\\AppData\\Local\\Temp\\ipykernel_22456\\1686760075.py\"\u001b[1;36m, line \u001b[1;32m4\u001b[0m\n\u001b[1;33m    type(i) == list:\u001b[0m\n\u001b[1;37m                    ^\u001b[0m\n\u001b[1;31mSyntaxError\u001b[0m\u001b[1;31m:\u001b[0m invalid syntax\n"
     ]
    }
   ],
   "source": [
    "total_val = []\n",
    "arr2 = []\n",
    "for i in arry:\n",
    "    type(i) == list:\n",
    "        arr2.append(i)\n",
    "        \n",
    "for i in range(0, len(arr2)):\n",
    "    sum_val = 0\n",
    "    arrt = []\n",
    "    for i in arr2[i]:\n",
    "        sum_val = i + sum_val\n",
    "        arrt.append(sum_val)\n",
    "    sum_total = arrt[-1]\n",
    "    tot_val.append(sum_total)\n",
    "print(total_val)\n"
   ]
  },
  {
   "cell_type": "code",
   "execution_count": 68,
   "id": "c1d7b259",
   "metadata": {},
   "outputs": [
    {
     "name": "stdout",
     "output_type": "stream",
     "text": [
      "tempereature is out of control\n"
     ]
    }
   ],
   "source": [
    "temp = -0.5\n",
    "if temp > 50:\n",
    "    print(\"tempeature is high!\")\n",
    "elif temp >=30 and temp <= 50:\n",
    "    print(\"tempeature is normal!\")\n",
    "elif temp >= 10 and temp <= 29:\n",
    "    print(\"temperature is low!, but manageable\")\n",
    "else:\n",
    "    print(\"tempereature is out of control\")\n"
   ]
  },
  {
   "cell_type": "code",
   "execution_count": null,
   "id": "5a69a7be",
   "metadata": {},
   "outputs": [],
   "source": [
    "arr = [6, 9, 10, 11, 13, 5, 2]\n",
    "1, mean\n",
    "2, median\n"
   ]
  },
  {
   "cell_type": "code",
   "execution_count": 8,
   "id": "5c358165",
   "metadata": {},
   "outputs": [
    {
     "ename": "NameError",
     "evalue": "name 'arr' is not defined",
     "output_type": "error",
     "traceback": [
      "\u001b[1;31m---------------------------------------------------------------------------\u001b[0m",
      "\u001b[1;31mNameError\u001b[0m                                 Traceback (most recent call last)",
      "\u001b[1;32m~\\AppData\\Local\\Temp\\ipykernel_20108\\235983018.py\u001b[0m in \u001b[0;36m<module>\u001b[1;34m\u001b[0m\n\u001b[0;32m      1\u001b[0m \u001b[0marr_sum\u001b[0m \u001b[1;33m=\u001b[0m \u001b[1;36m0\u001b[0m\u001b[1;33m\u001b[0m\u001b[1;33m\u001b[0m\u001b[0m\n\u001b[1;32m----> 2\u001b[1;33m \u001b[1;32mfor\u001b[0m \u001b[0mi\u001b[0m \u001b[1;32min\u001b[0m \u001b[0marr\u001b[0m\u001b[1;33m:\u001b[0m\u001b[1;33m\u001b[0m\u001b[1;33m\u001b[0m\u001b[0m\n\u001b[0m\u001b[0;32m      3\u001b[0m     \u001b[0marr_sum\u001b[0m \u001b[1;33m=\u001b[0m \u001b[0mi\u001b[0m \u001b[1;33m+\u001b[0m \u001b[0marr_sum\u001b[0m\u001b[1;33m\u001b[0m\u001b[1;33m\u001b[0m\u001b[0m\n\u001b[0;32m      4\u001b[0m \u001b[0mmean_val\u001b[0m \u001b[1;33m=\u001b[0m \u001b[0marr_sum\u001b[0m\u001b[1;33m/\u001b[0m\u001b[0mlen\u001b[0m\u001b[1;33m(\u001b[0m\u001b[0marr\u001b[0m\u001b[1;33m)\u001b[0m\u001b[1;33m\u001b[0m\u001b[1;33m\u001b[0m\u001b[0m\n\u001b[0;32m      5\u001b[0m \u001b[0mprint\u001b[0m\u001b[1;33m(\u001b[0m\u001b[0marr_sum\u001b[0m\u001b[1;33m)\u001b[0m\u001b[1;33m\u001b[0m\u001b[1;33m\u001b[0m\u001b[0m\n",
      "\u001b[1;31mNameError\u001b[0m: name 'arr' is not defined"
     ]
    }
   ],
   "source": [
    "arr_sum = 0\n",
    "for i in arr:\n",
    "    arr_sum = i + arr_sum\n",
    "mean_val = arr_sum/len(arr)\n",
    "print(arr_sum)"
   ]
  },
  {
   "cell_type": "code",
   "execution_count": 9,
   "id": "d38799cf",
   "metadata": {},
   "outputs": [
    {
     "data": {
      "text/plain": [
       "10"
      ]
     },
     "execution_count": 9,
     "metadata": {},
     "output_type": "execute_result"
    }
   ],
   "source": [
    "z = [7, 10, 2]\n",
    "z[1]"
   ]
  },
  {
   "cell_type": "code",
   "execution_count": null,
   "id": "b60950df",
   "metadata": {},
   "outputs": [],
   "source": [
    "arr = [10, 2, 4]\n",
    "arr.sort()\n",
    "print(arr)\n",
    "length = len(arr)\n",
    "mid_val = int(length/2)\n",
    "mid_val2 = mid_val - 1\n",
    "if length % 2 == 0:\n",
    "    median =(arr[mid_val] + arr [mid_val2])/2\n",
    "    print(f\"my median value )"
   ]
  },
  {
   "cell_type": "code",
   "execution_count": null,
   "id": "6e0af89d",
   "metadata": {},
   "outputs": [],
   "source": [
    "###matrixes"
   ]
  },
  {
   "cell_type": "code",
   "execution_count": 3,
   "id": "77913794",
   "metadata": {},
   "outputs": [
    {
     "name": "stdout",
     "output_type": "stream",
     "text": [
      "[[1, 2, 3], [5, 10, 7], [15, 25, 10], [8, 10, 17]]\n"
     ]
    }
   ],
   "source": [
    "arr = [[1, 2, 3], [5, 10, 7], [15, 25, 10], [8, 10, 17]]\n",
    "print(arr)"
   ]
  },
  {
   "cell_type": "code",
   "execution_count": 4,
   "id": "c8a069c6",
   "metadata": {},
   "outputs": [
    {
     "name": "stdout",
     "output_type": "stream",
     "text": [
      "[1, 2, 3]\n",
      "[5, 10, 7]\n",
      "[15, 25, 10]\n",
      "[8, 10, 17]\n"
     ]
    }
   ],
   "source": [
    "for i in arr:\n",
    "    print(i)"
   ]
  },
  {
   "cell_type": "code",
   "execution_count": 6,
   "id": "f084eee1",
   "metadata": {},
   "outputs": [
    {
     "name": "stdout",
     "output_type": "stream",
     "text": [
      "[1, 2, 3]\n"
     ]
    }
   ],
   "source": [
    "for i in range(0, len(arr)):\n",
    "    print (arr[i])\n",
    "    break"
   ]
  },
  {
   "cell_type": "code",
   "execution_count": 9,
   "id": "edebbe9f",
   "metadata": {},
   "outputs": [
    {
     "name": "stdout",
     "output_type": "stream",
     "text": [
      "6\n",
      "22\n",
      "50\n",
      "35\n"
     ]
    }
   ],
   "source": [
    "for i in range(0, len(arr)):\n",
    "    sum_val = 0\n",
    "    for i in arr[i]:\n",
    "        sum_val = i +sum_val\n",
    "    print(sum_val)"
   ]
  },
  {
   "cell_type": "code",
   "execution_count": 11,
   "id": "d3998a6e",
   "metadata": {},
   "outputs": [],
   "source": [
    "arr2 = [10, 15, 7, 4,8]\n",
    "#find any two value in this array that ther sum is 11"
   ]
  },
  {
   "cell_type": "code",
   "execution_count": 12,
   "id": "d4e5af5b",
   "metadata": {},
   "outputs": [
    {
     "name": "stdout",
     "output_type": "stream",
     "text": [
      "7 4\n",
      "4 7\n"
     ]
    }
   ],
   "source": [
    "for i in arr2:\n",
    "    for n in arr2:\n",
    "        sum_val = i+n\n",
    "        if sum_val == 11:\n",
    "            print(i,n)"
   ]
  },
  {
   "cell_type": "code",
   "execution_count": 13,
   "id": "cdf48f3f",
   "metadata": {},
   "outputs": [
    {
     "name": "stdout",
     "output_type": "stream",
     "text": [
      "7 4\n"
     ]
    }
   ],
   "source": [
    "for i in range (0, len(arr2)):\n",
    "    for n in range(i, len(arr2)):\n",
    "        sum_val = (arr2[i] + arr2[n])\n",
    "        if sum_val == 11:\n",
    "            print(arr2[i], arr2[n])"
   ]
  },
  {
   "cell_type": "code",
   "execution_count": 16,
   "id": "94f45c24",
   "metadata": {},
   "outputs": [
    {
     "name": "stdout",
     "output_type": "stream",
     "text": [
      "0 0\n",
      "0 5\n",
      "1 1\n",
      "1 5\n",
      "2 2\n",
      "2 5\n",
      "3 3\n",
      "3 5\n",
      "4 4\n",
      "4 5\n"
     ]
    }
   ],
   "source": [
    "arr2 = [10, 15, 7, 4, 8]\n",
    "for i in range(0, len(arr2)):\n",
    "    for n in (i, len(arr2)):\n",
    "        print(i, n)"
   ]
  },
  {
   "cell_type": "code",
   "execution_count": 18,
   "id": "4ebfca40",
   "metadata": {},
   "outputs": [],
   "source": [
    "# a = [1, 2, 3]\n",
    "#  b = [4, 5, 6]\n",
    "# for i in a:\n",
    "#     for n in b:\n",
    "#         print(i, n)"
   ]
  },
  {
   "cell_type": "code",
   "execution_count": 23,
   "id": "280187de",
   "metadata": {},
   "outputs": [
    {
     "name": "stdout",
     "output_type": "stream",
     "text": [
      "7 4\n"
     ]
    }
   ],
   "source": [
    "arr2 = [10, 15, 7, 4, 8]\n",
    "for i in range(0, len(arr2)):\n",
    "    for n in range(i, len(arr2)):\n",
    "        sum_val = arr2[i] + arr2[n]\n",
    "        if sum_val == 11:\n",
    "            print(arr2[i], arr2[n])"
   ]
  },
  {
   "cell_type": "code",
   "execution_count": 24,
   "id": "b6022830",
   "metadata": {},
   "outputs": [
    {
     "name": "stdout",
     "output_type": "stream",
     "text": [
      "10 10\n",
      "10 15\n",
      "10 7\n",
      "10 4\n",
      "10 8\n",
      "15 10\n",
      "15 15\n",
      "15 7\n",
      "15 4\n",
      "15 8\n",
      "7 10\n",
      "7 15\n",
      "7 7\n",
      "7 4\n",
      "7 8\n",
      "4 10\n",
      "4 15\n",
      "4 7\n",
      "4 4\n",
      "4 8\n",
      "8 10\n",
      "8 15\n",
      "8 7\n",
      "8 4\n",
      "8 8\n"
     ]
    }
   ],
   "source": [
    "arr2 = [10, 15, 7, 4, 8]\n",
    "for i in arr2:\n",
    "    for n in arr2:\n",
    "        print(i, n)"
   ]
  },
  {
   "cell_type": "code",
   "execution_count": 26,
   "id": "22226cbd",
   "metadata": {},
   "outputs": [
    {
     "name": "stdout",
     "output_type": "stream",
     "text": [
      "10 10\n",
      "10 15\n",
      "10 7\n",
      "10 4\n",
      "10 8\n",
      "15 15\n",
      "15 7\n",
      "15 4\n",
      "15 8\n",
      "7 7\n",
      "7 4\n",
      "7 8\n",
      "4 4\n",
      "4 8\n",
      "8 8\n"
     ]
    }
   ],
   "source": [
    "for i in range(0, len(arr2)):\n",
    "    for n in range(i, len(arr2)):\n",
    "        print(arr2[i], arr2[n])"
   ]
  },
  {
   "cell_type": "code",
   "execution_count": 28,
   "id": "cac54143",
   "metadata": {},
   "outputs": [
    {
     "data": {
      "text/html": [
       "<div>\n",
       "<style scoped>\n",
       "    .dataframe tbody tr th:only-of-type {\n",
       "        vertical-align: middle;\n",
       "    }\n",
       "\n",
       "    .dataframe tbody tr th {\n",
       "        vertical-align: top;\n",
       "    }\n",
       "\n",
       "    .dataframe thead th {\n",
       "        text-align: right;\n",
       "    }\n",
       "</style>\n",
       "<table border=\"1\" class=\"dataframe\">\n",
       "  <thead>\n",
       "    <tr style=\"text-align: right;\">\n",
       "      <th></th>\n",
       "      <th>score1</th>\n",
       "      <th>score2</th>\n",
       "      <th>score3</th>\n",
       "      <th>name</th>\n",
       "    </tr>\n",
       "  </thead>\n",
       "  <tbody>\n",
       "    <tr>\n",
       "      <th>0</th>\n",
       "      <td>1</td>\n",
       "      <td>10</td>\n",
       "      <td>14</td>\n",
       "      <td>denis</td>\n",
       "    </tr>\n",
       "    <tr>\n",
       "      <th>1</th>\n",
       "      <td>2</td>\n",
       "      <td>11</td>\n",
       "      <td>15</td>\n",
       "      <td>faith</td>\n",
       "    </tr>\n",
       "    <tr>\n",
       "      <th>2</th>\n",
       "      <td>4</td>\n",
       "      <td>12</td>\n",
       "      <td>18</td>\n",
       "      <td>goDSpower</td>\n",
       "    </tr>\n",
       "  </tbody>\n",
       "</table>\n",
       "</div>"
      ],
      "text/plain": [
       "  score1 score2 score3       name\n",
       "0      1     10     14      denis\n",
       "1      2     11     15      faith\n",
       "2      4     12     18  goDSpower"
      ]
     },
     "execution_count": 28,
     "metadata": {},
     "output_type": "execute_result"
    }
   ],
   "source": [
    "import pandas as pd\n",
    "\n",
    "lst = [[1, 2, 4], [\"10\", \"11\", \"12\"], [14, 15, 18]]\n",
    "df = pd.DataFrame(lst).T\n",
    "df.columns = [\"score1\", \"score2\", \"score3\"]\n",
    "df[\"name\"] = [\"denis\", \"faith\", \"goDSpower\"]\n",
    "df"
   ]
  },
  {
   "cell_type": "code",
   "execution_count": 30,
   "id": "0261a797",
   "metadata": {},
   "outputs": [
    {
     "name": "stdout",
     "output_type": "stream",
     "text": [
      "['score1', 'score2', 'score3', 'name']\n"
     ]
    }
   ],
   "source": [
    "col = []\n",
    "for i in df.columns:\n",
    "    b = i.lower()\n",
    "    col.append(b)\n",
    "print(col)\n"
   ]
  },
  {
   "cell_type": "code",
   "execution_count": 31,
   "id": "b6ca1d5f",
   "metadata": {},
   "outputs": [],
   "source": [
    "df.columns = col"
   ]
  },
  {
   "cell_type": "code",
   "execution_count": 32,
   "id": "618d3ff0",
   "metadata": {},
   "outputs": [
    {
     "data": {
      "text/html": [
       "<div>\n",
       "<style scoped>\n",
       "    .dataframe tbody tr th:only-of-type {\n",
       "        vertical-align: middle;\n",
       "    }\n",
       "\n",
       "    .dataframe tbody tr th {\n",
       "        vertical-align: top;\n",
       "    }\n",
       "\n",
       "    .dataframe thead th {\n",
       "        text-align: right;\n",
       "    }\n",
       "</style>\n",
       "<table border=\"1\" class=\"dataframe\">\n",
       "  <thead>\n",
       "    <tr style=\"text-align: right;\">\n",
       "      <th></th>\n",
       "      <th>score1</th>\n",
       "      <th>score2</th>\n",
       "      <th>score3</th>\n",
       "      <th>name</th>\n",
       "    </tr>\n",
       "  </thead>\n",
       "  <tbody>\n",
       "    <tr>\n",
       "      <th>0</th>\n",
       "      <td>1</td>\n",
       "      <td>10</td>\n",
       "      <td>14</td>\n",
       "      <td>denis</td>\n",
       "    </tr>\n",
       "    <tr>\n",
       "      <th>1</th>\n",
       "      <td>2</td>\n",
       "      <td>11</td>\n",
       "      <td>15</td>\n",
       "      <td>faith</td>\n",
       "    </tr>\n",
       "    <tr>\n",
       "      <th>2</th>\n",
       "      <td>4</td>\n",
       "      <td>12</td>\n",
       "      <td>18</td>\n",
       "      <td>goDSpower</td>\n",
       "    </tr>\n",
       "  </tbody>\n",
       "</table>\n",
       "</div>"
      ],
      "text/plain": [
       "  score1 score2 score3       name\n",
       "0      1     10     14      denis\n",
       "1      2     11     15      faith\n",
       "2      4     12     18  goDSpower"
      ]
     },
     "execution_count": 32,
     "metadata": {},
     "output_type": "execute_result"
    }
   ],
   "source": [
    "df"
   ]
  },
  {
   "cell_type": "code",
   "execution_count": 33,
   "id": "9133187e",
   "metadata": {},
   "outputs": [
    {
     "name": "stdout",
     "output_type": "stream",
     "text": [
      "['Denis', 'Faith', 'Godspower']\n"
     ]
    }
   ],
   "source": [
    "new_names = []\n",
    "for i in df[\"name\"].values:\n",
    "    k = i[0].upper() + i[1:].lower()\n",
    "    new_names.append(k)\n",
    "    \n",
    "print(new_names)"
   ]
  },
  {
   "cell_type": "code",
   "execution_count": 36,
   "id": "442c29f8",
   "metadata": {},
   "outputs": [],
   "source": [
    "df[\"name\"] = new_names"
   ]
  },
  {
   "cell_type": "code",
   "execution_count": 40,
   "id": "6e16c9b3",
   "metadata": {},
   "outputs": [
    {
     "ename": "NameError",
     "evalue": "name 'df' is not defined",
     "output_type": "error",
     "traceback": [
      "\u001b[1;31m---------------------------------------------------------------------------\u001b[0m",
      "\u001b[1;31mNameError\u001b[0m                                 Traceback (most recent call last)",
      "\u001b[1;32m~\\AppData\\Local\\Temp\\ipykernel_22456\\1396537375.py\u001b[0m in \u001b[0;36m<module>\u001b[1;34m\u001b[0m\n\u001b[1;32m----> 1\u001b[1;33m \u001b[0mdf\u001b[0m\u001b[1;33m\u001b[0m\u001b[1;33m\u001b[0m\u001b[0m\n\u001b[0m",
      "\u001b[1;31mNameError\u001b[0m: name 'df' is not defined"
     ]
    }
   ],
   "source": [
    "df"
   ]
  },
  {
   "cell_type": "code",
   "execution_count": 34,
   "id": "a9e5c00e",
   "metadata": {},
   "outputs": [
    {
     "ename": "NameError",
     "evalue": "name 'df' is not defined",
     "output_type": "error",
     "traceback": [
      "\u001b[1;31m---------------------------------------------------------------------------\u001b[0m",
      "\u001b[1;31mNameError\u001b[0m                                 Traceback (most recent call last)",
      "\u001b[1;32m~\\AppData\\Local\\Temp\\ipykernel_22456\\484271054.py\u001b[0m in \u001b[0;36m<module>\u001b[1;34m\u001b[0m\n\u001b[0;32m      2\u001b[0m \u001b[1;32mfor\u001b[0m \u001b[0mn\u001b[0m \u001b[1;32min\u001b[0m \u001b[0mrange\u001b[0m\u001b[1;33m(\u001b[0m\u001b[1;36m0\u001b[0m\u001b[1;33m,\u001b[0m \u001b[1;36m3\u001b[0m\u001b[1;33m)\u001b[0m\u001b[1;33m:\u001b[0m\u001b[1;33m\u001b[0m\u001b[1;33m\u001b[0m\u001b[0m\n\u001b[0;32m      3\u001b[0m     \u001b[0msum_val\u001b[0m \u001b[1;33m=\u001b[0m \u001b[1;36m0\u001b[0m\u001b[1;33m\u001b[0m\u001b[1;33m\u001b[0m\u001b[0m\n\u001b[1;32m----> 4\u001b[1;33m     \u001b[1;32mfor\u001b[0m \u001b[0mi\u001b[0m \u001b[1;32min\u001b[0m \u001b[0mdf\u001b[0m\u001b[1;33m.\u001b[0m\u001b[0miloc\u001b[0m\u001b[1;33m[\u001b[0m\u001b[0mn\u001b[0m\u001b[1;33m]\u001b[0m\u001b[1;33m.\u001b[0m\u001b[0mvalues\u001b[0m\u001b[1;33m[\u001b[0m\u001b[1;33m:\u001b[0m\u001b[1;33m-\u001b[0m\u001b[1;36m1\u001b[0m\u001b[1;33m]\u001b[0m\u001b[1;33m:\u001b[0m\u001b[1;33m\u001b[0m\u001b[1;33m\u001b[0m\u001b[0m\n\u001b[0m\u001b[0;32m      5\u001b[0m         \u001b[0msum_val\u001b[0m \u001b[1;33m=\u001b[0m \u001b[0mfloat\u001b[0m\u001b[1;33m(\u001b[0m\u001b[0mi\u001b[0m\u001b[1;33m)\u001b[0m \u001b[1;33m+\u001b[0m \u001b[0msum_val\u001b[0m\u001b[1;33m\u001b[0m\u001b[1;33m\u001b[0m\u001b[0m\n\u001b[0;32m      6\u001b[0m     \u001b[0marry\u001b[0m\u001b[1;33m.\u001b[0m\u001b[0mappend\u001b[0m\u001b[1;33m(\u001b[0m\u001b[0msum_val\u001b[0m\u001b[1;33m)\u001b[0m\u001b[1;33m\u001b[0m\u001b[1;33m\u001b[0m\u001b[0m\n",
      "\u001b[1;31mNameError\u001b[0m: name 'df' is not defined"
     ]
    }
   ],
   "source": [
    "arry = []\n",
    "for n in range(0, 3):\n",
    "    sum_val = 0\n",
    "    for i in df.iloc[n].values[:-1]:\n",
    "        sum_val = float(i) + sum_val\n",
    "    arry.append(sum_val)\n",
    "df[\"sums\"] = arry"
   ]
  },
  {
   "cell_type": "code",
   "execution_count": 30,
   "id": "e00cbca0",
   "metadata": {},
   "outputs": [
    {
     "ename": "NameError",
     "evalue": "name 'df' is not defined",
     "output_type": "error",
     "traceback": [
      "\u001b[1;31m---------------------------------------------------------------------------\u001b[0m",
      "\u001b[1;31mNameError\u001b[0m                                 Traceback (most recent call last)",
      "\u001b[1;32m~\\AppData\\Local\\Temp\\ipykernel_22456\\1396537375.py\u001b[0m in \u001b[0;36m<module>\u001b[1;34m\u001b[0m\n\u001b[1;32m----> 1\u001b[1;33m \u001b[0mdf\u001b[0m\u001b[1;33m\u001b[0m\u001b[1;33m\u001b[0m\u001b[0m\n\u001b[0m",
      "\u001b[1;31mNameError\u001b[0m: name 'df' is not defined"
     ]
    }
   ],
   "source": [
    "df"
   ]
  },
  {
   "cell_type": "code",
   "execution_count": 31,
   "id": "909faae8",
   "metadata": {},
   "outputs": [
    {
     "data": {
      "text/plain": [
       "[[1, 2, 5], [10, 11, 6], [8, 9, 11], [10, 15, 6, 7, 8]]"
      ]
     },
     "execution_count": 31,
     "metadata": {},
     "output_type": "execute_result"
    }
   ],
   "source": [
    "p_arr = [[1, 2, 5], [10, 11, 6], [8, 9, 11], [10, 15, 6, 7, 8]]\n",
    "#sum th mean for the valus in the array\n",
    "p_arr"
   ]
  },
  {
   "cell_type": "code",
   "execution_count": 35,
   "id": "b661ad40",
   "metadata": {},
   "outputs": [
    {
     "name": "stdout",
     "output_type": "stream",
     "text": [
      "[2.667, 9.0, 9.333, 9.2]\n"
     ]
    }
   ],
   "source": [
    "z = []\n",
    "for i in range(0, len(p_arr)):\n",
    "    length = len(p_arr[i])\n",
    "    sum_val = 0\n",
    "    for i in p_arr[i]:\n",
    "        sum_val = i + sum_val\n",
    "    mean_val = round(sum_val/length, 3)\n",
    "    z.append(mean_val)\n",
    "print(z)"
   ]
  },
  {
   "cell_type": "code",
   "execution_count": 41,
   "id": "c843b504",
   "metadata": {},
   "outputs": [],
   "source": [
    "###list comprehension, functions and dictionaries"
   ]
  },
  {
   "cell_type": "code",
   "execution_count": 52,
   "id": "11bdd6aa",
   "metadata": {},
   "outputs": [
    {
     "name": "stdout",
     "output_type": "stream",
     "text": [
      "[10, 20, 8]\n"
     ]
    }
   ],
   "source": [
    " arr = [10, 15, 20, 13, 7, 21, 8]\n",
    "even = []\n",
    "for i in arr:\n",
    "    if i%2 == 0:\n",
    "        even.append(i)\n",
    "print(even)"
   ]
  },
  {
   "cell_type": "code",
   "execution_count": 53,
   "id": "4153e882",
   "metadata": {},
   "outputs": [
    {
     "data": {
      "text/plain": [
       "[]"
      ]
     },
     "execution_count": 53,
     "metadata": {},
     "output_type": "execute_result"
    }
   ],
   "source": [
    "lst_even = [i for i in arr if 1%2==0]\n",
    "lst_even"
   ]
  },
  {
   "cell_type": "code",
   "execution_count": 56,
   "id": "73142fdd",
   "metadata": {},
   "outputs": [
    {
     "name": "stdout",
     "output_type": "stream",
     "text": [
      "27.8\n"
     ]
    }
   ],
   "source": [
    "arr = [10, 20, 30, 67, 12]\n",
    "total = 0\n",
    "for i in arr:\n",
    "    total = i + total\n",
    "mean = round(total/len(arr), 3)\n",
    "print(mean)\n"
   ]
  },
  {
   "cell_type": "code",
   "execution_count": 58,
   "id": "a952b738",
   "metadata": {},
   "outputs": [
    {
     "name": "stdout",
     "output_type": "stream",
     "text": [
      "9.5\n",
      "27.8\n"
     ]
    }
   ],
   "source": [
    "def calc_mean(arr):\n",
    "    total = 0\n",
    "    for i in arr:\n",
    "        total = i + total\n",
    "    mean = round(total/len(arr), 3)\n",
    "    return mean\n",
    "\n",
    "t = [10, 11, 8, 9]\n",
    "t_funct = calc_mean(t)\n",
    "arr_func = calc_mean(arr)\n",
    "print(t_funct)\n",
    "print(arr_func)"
   ]
  },
  {
   "attachments": {
    "standard%20dev.png": {
     "image/png": "[encoded data removed]"
    }
   },
   "cell_type": "markdown",
   "id": "0f5ed5aa",
   "metadata": {},
   "source": [
    "![standard%20dev.png](attachment:standard%20dev.png)"
   ]
  },
  {
   "cell_type": "code",
   "execution_count": 67,
   "id": "6f5d89db",
   "metadata": {},
   "outputs": [
    {
     "name": "stdout",
     "output_type": "stream",
     "text": [
      "73.143\n"
     ]
    },
    {
     "ename": "NameError",
     "evalue": "name 'mean_dev' is not defined",
     "output_type": "error",
     "traceback": [
      "\u001b[1;31m---------------------------------------------------------------------------\u001b[0m",
      "\u001b[1;31mNameError\u001b[0m                                 Traceback (most recent call last)",
      "\u001b[1;32m~\\AppData\\Local\\Temp\\ipykernel_22456\\1799204635.py\u001b[0m in \u001b[0;36m<module>\u001b[1;34m\u001b[0m\n\u001b[0;32m     20\u001b[0m \u001b[0mmean_val\u001b[0m \u001b[1;33m=\u001b[0m \u001b[0mcalc_mean\u001b[0m \u001b[1;33m(\u001b[0m\u001b[0marr\u001b[0m\u001b[1;33m=\u001b[0m\u001b[0mdist\u001b[0m\u001b[1;33m)\u001b[0m\u001b[1;33m\u001b[0m\u001b[1;33m\u001b[0m\u001b[0m\n\u001b[0;32m     21\u001b[0m \u001b[0mprint\u001b[0m\u001b[1;33m(\u001b[0m\u001b[0mmean_val\u001b[0m\u001b[1;33m)\u001b[0m\u001b[1;33m\u001b[0m\u001b[1;33m\u001b[0m\u001b[0m\n\u001b[1;32m---> 22\u001b[1;33m \u001b[0mz\u001b[0m \u001b[1;33m=\u001b[0m \u001b[0mmean_dev\u001b[0m\u001b[1;33m(\u001b[0m\u001b[0mmean_val\u001b[0m\u001b[1;33m,\u001b[0m \u001b[0marr\u001b[0m\u001b[1;33m=\u001b[0m\u001b[0mdist\u001b[0m\u001b[1;33m)\u001b[0m\u001b[1;33m\u001b[0m\u001b[1;33m\u001b[0m\u001b[0m\n\u001b[0m\u001b[0;32m     23\u001b[0m \u001b[0mprint\u001b[0m \u001b[1;33m(\u001b[0m\u001b[0mz\u001b[0m\u001b[1;33m)\u001b[0m\u001b[1;33m\u001b[0m\u001b[1;33m\u001b[0m\u001b[0m\n\u001b[0;32m     24\u001b[0m \u001b[0msum\u001b[0m \u001b[1;33m=\u001b[0m \u001b[0msummation\u001b[0m\u001b[1;33m(\u001b[0m\u001b[0mArr_sum\u001b[0m \u001b[1;33m=\u001b[0m \u001b[0mz\u001b[0m\u001b[1;33m)\u001b[0m\u001b[1;33m\u001b[0m\u001b[1;33m\u001b[0m\u001b[0m\n",
      "\u001b[1;31mNameError\u001b[0m: name 'mean_dev' is not defined"
     ]
    }
   ],
   "source": [
    "def cal_mean(arr):\n",
    "    total = 0\n",
    "    for i in arr:\n",
    "        total = i + total\n",
    "        mean = round(total/len(arr), 3)\n",
    "        return mean\n",
    "    def mean_dev(mean, arr):\n",
    "        arr_sum = []\n",
    "        for i in arr:\n",
    "            val == round((i - mean)**2, 3)\n",
    "            arr_sum.append(val)\n",
    "            return total_val\n",
    "        \n",
    "def final_dev(total_val, arr):\n",
    "        dev = total_val/(len(arr) - 1)\n",
    "        st_dev = dev**(0.5)\n",
    "        return st_dev\n",
    "\n",
    "dist = [76, 89, 85, 90, 72, 88, 12]\n",
    "mean_val = calc_mean (arr=dist)\n",
    "print(mean_val)\n",
    "z = mean_dev(mean=mean_val, arr=dist)\n",
    "print (z)\n",
    "sum = summation(Arr_sum = z)\n",
    "print(smm)\n",
    "#     st_dev = final_dev(total_val=smm, arr=dist)\n",
    "#     print(st_dev)\n",
    "    "
   ]
  },
  {
   "cell_type": "code",
   "execution_count": 68,
   "id": "c259b1d5",
   "metadata": {},
   "outputs": [],
   "source": [
    "# f(x) = 2x + 1\n",
    "# x = 5\n",
    "\n",
    "# a(r) = pi*r2\n",
    "# p(f, a) = f/a"
   ]
  },
  {
   "cell_type": "code",
   "execution_count": 69,
   "id": "2a3d9e4d",
   "metadata": {},
   "outputs": [
    {
     "name": "stdout",
     "output_type": "stream",
     "text": [
      "41\n"
     ]
    }
   ],
   "source": [
    "def f(x):\n",
    "    return 2*(x) + 1\n",
    "print(f(20))"
   ]
  },
  {
   "cell_type": "code",
   "execution_count": 70,
   "id": "b2b4e4b2",
   "metadata": {},
   "outputs": [
    {
     "name": "stdout",
     "output_type": "stream",
     "text": [
      "5.1478150704935\n"
     ]
    }
   ],
   "source": [
    "arr = [10, 15, 24, 19]\n",
    "import numpy as np\n",
    "val = np.array(arr)\n",
    "print(val.std())"
   ]
  },
  {
   "cell_type": "code",
   "execution_count": 72,
   "id": "d299d8b5",
   "metadata": {},
   "outputs": [
    {
     "name": "stdout",
     "output_type": "stream",
     "text": [
      " Volume in drive C is Windows\n",
      " Volume Serial Number is 6A1E-86A1\n",
      "\n",
      " Directory of C:\\Users\\ABDULRASHID\\Dataclass_python\n",
      "\n",
      "03/20/2023  11:34 AM    <DIR>          .\n",
      "03/16/2023  01:06 PM    <DIR>          ..\n",
      "03/06/2023  10:39 AM    <DIR>          .ipynb_checkpoints\n",
      "03/20/2023  11:34 AM            72,193 Untitled.ipynb\n",
      "               1 File(s)         72,193 bytes\n",
      "               3 Dir(s)  833,780,166,656 bytes free\n"
     ]
    }
   ],
   "source": [
    "!dir"
   ]
  },
  {
   "cell_type": "code",
   "execution_count": 73,
   "id": "e60053b3",
   "metadata": {},
   "outputs": [
    {
     "data": {
      "text/plain": [
       "['.ipynb_checkpoints', 'Untitled.ipynb']"
      ]
     },
     "execution_count": 73,
     "metadata": {},
     "output_type": "execute_result"
    }
   ],
   "source": [
    "import os\n",
    "os.listdir()"
   ]
  },
  {
   "cell_type": "code",
   "execution_count": 74,
   "id": "5a9116f0",
   "metadata": {},
   "outputs": [],
   "source": [
    "path = \"scores.txt\""
   ]
  },
  {
   "cell_type": "code",
   "execution_count": 12,
   "id": "27c733b5",
   "metadata": {},
   "outputs": [
    {
     "ename": "NameError",
     "evalue": "name 'opwn' is not defined",
     "output_type": "error",
     "traceback": [
      "\u001b[1;31m---------------------------------------------------------------------------\u001b[0m",
      "\u001b[1;31mNameError\u001b[0m                                 Traceback (most recent call last)",
      "\u001b[1;32m~\\AppData\\Local\\Temp\\ipykernel_39720\\4092881166.py\u001b[0m in \u001b[0;36m<module>\u001b[1;34m\u001b[0m\n\u001b[1;32m----> 1\u001b[1;33m \u001b[1;32mwith\u001b[0m \u001b[0mopwn\u001b[0m\u001b[1;33m(\u001b[0m\u001b[0mpath\u001b[0m\u001b[1;33m,\u001b[0m \u001b[1;34m\"r\"\u001b[0m\u001b[1;33m)\u001b[0m \u001b[1;32mas\u001b[0m \u001b[0mfile\u001b[0m\u001b[1;33m:\u001b[0m\u001b[1;33m\u001b[0m\u001b[1;33m\u001b[0m\u001b[0m\n\u001b[0m\u001b[0;32m      2\u001b[0m     \u001b[0mp\u001b[0m \u001b[1;33m=\u001b[0m \u001b[0mfile\u001b[0m\u001b[1;33m.\u001b[0m\u001b[0mread\u001b[0m\u001b[1;33m(\u001b[0m\u001b[1;33m)\u001b[0m\u001b[1;33m.\u001b[0m\u001b[0msplit\u001b[0m\u001b[1;33m(\u001b[0m\u001b[1;34m\"\\n\"\u001b[0m\u001b[1;33m)\u001b[0m\u001b[1;33m\u001b[0m\u001b[1;33m\u001b[0m\u001b[0m\n\u001b[0;32m      3\u001b[0m     \u001b[0mconvert_p\u001b[0m \u001b[1;33m=\u001b[0m \u001b[1;33m[\u001b[0m\u001b[0mfloat\u001b[0m\u001b[1;33m(\u001b[0m\u001b[0mi\u001b[0m\u001b[1;33m)\u001b[0m \u001b[1;32mfor\u001b[0m \u001b[0mi\u001b[0m \u001b[1;32min\u001b[0m \u001b[0mp\u001b[0m\u001b[1;33m]\u001b[0m\u001b[1;33m\u001b[0m\u001b[1;33m\u001b[0m\u001b[0m\n\u001b[0;32m      4\u001b[0m     \u001b[0mprint\u001b[0m\u001b[1;33m(\u001b[0m\u001b[0mconvert_p\u001b[0m\u001b[1;33m)\u001b[0m\u001b[1;33m\u001b[0m\u001b[1;33m\u001b[0m\u001b[0m\n",
      "\u001b[1;31mNameError\u001b[0m: name 'opwn' is not defined"
     ]
    }
   ],
   "source": [
    "with opwn(path, \"r\") as file:\n",
    "    p = file.read().split(\"\\n\")\n",
    "    convert_p = [float(i) for i in p]\n",
    "    print(convert_p)"
   ]
  },
  {
   "cell_type": "code",
   "execution_count": null,
   "id": "1e1ca486",
   "metadata": {},
   "outputs": [],
   "source": []
  }
 ],
 "metadata": {
  "kernelspec": {
   "display_name": "Python 3 (ipykernel)",
   "language": "python",
   "name": "python3"
  },
  "language_info": {
   "codemirror_mode": {
    "name": "ipython",
    "version": 3
   },
   "file_extension": ".py",
   "mimetype": "text/x-python",
   "name": "python",
   "nbconvert_exporter": "python",
   "pygments_lexer": "ipython3",
   "version": "3.9.13"
  }
 },
 "nbformat": 4,
 "nbformat_minor": 5
}
