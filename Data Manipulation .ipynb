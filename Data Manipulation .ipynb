{
 "cells": [
  {
   "cell_type": "code",
   "execution_count": 9,
   "id": "2ad7bd0e",
   "metadata": {},
   "outputs": [],
   "source": [
    "import pandas as pd\n",
    "import numpy as np"
   ]
  },
  {
   "cell_type": "code",
   "execution_count": 10,
   "id": "ebab7454",
   "metadata": {},
   "outputs": [
    {
     "data": {
      "text/html": [
       "<div>\n",
       "<style scoped>\n",
       "    .dataframe tbody tr th:only-of-type {\n",
       "        vertical-align: middle;\n",
       "    }\n",
       "\n",
       "    .dataframe tbody tr th {\n",
       "        vertical-align: top;\n",
       "    }\n",
       "\n",
       "    .dataframe thead th {\n",
       "        text-align: right;\n",
       "    }\n",
       "</style>\n",
       "<table border=\"1\" class=\"dataframe\">\n",
       "  <thead>\n",
       "    <tr style=\"text-align: right;\">\n",
       "      <th></th>\n",
       "      <th>0</th>\n",
       "    </tr>\n",
       "  </thead>\n",
       "  <tbody>\n",
       "    <tr>\n",
       "      <th>10</th>\n",
       "      <td>matt</td>\n",
       "    </tr>\n",
       "    <tr>\n",
       "      <th>12</th>\n",
       "      <td>kate</td>\n",
       "    </tr>\n",
       "    <tr>\n",
       "      <th>11</th>\n",
       "      <td>lopard</td>\n",
       "    </tr>\n",
       "    <tr>\n",
       "      <th>13</th>\n",
       "      <td>josh</td>\n",
       "    </tr>\n",
       "  </tbody>\n",
       "</table>\n",
       "</div>"
      ],
      "text/plain": [
       "         0\n",
       "10    matt\n",
       "12    kate\n",
       "11  lopard\n",
       "13    josh"
      ]
     },
     "execution_count": 10,
     "metadata": {},
     "output_type": "execute_result"
    }
   ],
   "source": [
    "a = [\"matt\", \"kate\", \"lopard\", \"josh\"]\n",
    "b = [10, 12, 11, 13]\n",
    "df = pd.DataFrame(a, b)\n",
    "df"
   ]
  },
  {
   "cell_type": "code",
   "execution_count": 11,
   "id": "45c3f21b",
   "metadata": {},
   "outputs": [
    {
     "data": {
      "text/html": [
       "<div>\n",
       "<style scoped>\n",
       "    .dataframe tbody tr th:only-of-type {\n",
       "        vertical-align: middle;\n",
       "    }\n",
       "\n",
       "    .dataframe tbody tr th {\n",
       "        vertical-align: top;\n",
       "    }\n",
       "\n",
       "    .dataframe thead th {\n",
       "        text-align: right;\n",
       "    }\n",
       "</style>\n",
       "<table border=\"1\" class=\"dataframe\">\n",
       "  <thead>\n",
       "    <tr style=\"text-align: right;\">\n",
       "      <th></th>\n",
       "      <th>age</th>\n",
       "      <th>names</th>\n",
       "    </tr>\n",
       "  </thead>\n",
       "  <tbody>\n",
       "    <tr>\n",
       "      <th>0</th>\n",
       "      <td>10</td>\n",
       "      <td>matt</td>\n",
       "    </tr>\n",
       "    <tr>\n",
       "      <th>1</th>\n",
       "      <td>12</td>\n",
       "      <td>kate</td>\n",
       "    </tr>\n",
       "    <tr>\n",
       "      <th>2</th>\n",
       "      <td>11</td>\n",
       "      <td>lopard</td>\n",
       "    </tr>\n",
       "    <tr>\n",
       "      <th>3</th>\n",
       "      <td>13</td>\n",
       "      <td>josh</td>\n",
       "    </tr>\n",
       "  </tbody>\n",
       "</table>\n",
       "</div>"
      ],
      "text/plain": [
       "   age   names\n",
       "0   10    matt\n",
       "1   12    kate\n",
       "2   11  lopard\n",
       "3   13    josh"
      ]
     },
     "execution_count": 11,
     "metadata": {},
     "output_type": "execute_result"
    }
   ],
   "source": [
    "reset = df.reset_index()\n",
    "reset.columns = [\"age\", \"names\"]\n",
    "reset"
   ]
  },
  {
   "cell_type": "code",
   "execution_count": 12,
   "id": "be07e1db",
   "metadata": {},
   "outputs": [
    {
     "data": {
      "text/html": [
       "<div>\n",
       "<style scoped>\n",
       "    .dataframe tbody tr th:only-of-type {\n",
       "        vertical-align: middle;\n",
       "    }\n",
       "\n",
       "    .dataframe tbody tr th {\n",
       "        vertical-align: top;\n",
       "    }\n",
       "\n",
       "    .dataframe thead th {\n",
       "        text-align: right;\n",
       "    }\n",
       "</style>\n",
       "<table border=\"1\" class=\"dataframe\">\n",
       "  <thead>\n",
       "    <tr style=\"text-align: right;\">\n",
       "      <th></th>\n",
       "      <th>names</th>\n",
       "      <th>age</th>\n",
       "    </tr>\n",
       "  </thead>\n",
       "  <tbody>\n",
       "    <tr>\n",
       "      <th>0</th>\n",
       "      <td>matt</td>\n",
       "      <td>10</td>\n",
       "    </tr>\n",
       "    <tr>\n",
       "      <th>1</th>\n",
       "      <td>kate</td>\n",
       "      <td>12</td>\n",
       "    </tr>\n",
       "    <tr>\n",
       "      <th>2</th>\n",
       "      <td>lopard</td>\n",
       "      <td>11</td>\n",
       "    </tr>\n",
       "    <tr>\n",
       "      <th>3</th>\n",
       "      <td>josh</td>\n",
       "      <td>13</td>\n",
       "    </tr>\n",
       "  </tbody>\n",
       "</table>\n",
       "</div>"
      ],
      "text/plain": [
       "    names age\n",
       "0    matt  10\n",
       "1    kate  12\n",
       "2  lopard  11\n",
       "3    josh  13"
      ]
     },
     "execution_count": 12,
     "metadata": {},
     "output_type": "execute_result"
    }
   ],
   "source": [
    "df2 = pd.DataFrame([a, b]).T\n",
    "df2.columns = [\"names\", \"age\"]\n",
    "df2"
   ]
  },
  {
   "cell_type": "code",
   "execution_count": 13,
   "id": "1b4801e2",
   "metadata": {},
   "outputs": [
    {
     "data": {
      "text/plain": [
       "pandas.core.frame.DataFrame"
      ]
     },
     "execution_count": 13,
     "metadata": {},
     "output_type": "execute_result"
    }
   ],
   "source": [
    "type(df)"
   ]
  },
  {
   "cell_type": "code",
   "execution_count": 14,
   "id": "bc73a544",
   "metadata": {},
   "outputs": [],
   "source": [
    "###series"
   ]
  },
  {
   "cell_type": "code",
   "execution_count": 15,
   "id": "411069cb",
   "metadata": {},
   "outputs": [
    {
     "data": {
      "text/plain": [
       "0      matt\n",
       "1      kate\n",
       "2    lopard\n",
       "3      josh\n",
       "dtype: object"
      ]
     },
     "execution_count": 15,
     "metadata": {},
     "output_type": "execute_result"
    }
   ],
   "source": [
    "sdf = pd.Series(a)\n",
    "sdf"
   ]
  },
  {
   "cell_type": "code",
   "execution_count": 16,
   "id": "4fc7183a",
   "metadata": {},
   "outputs": [
    {
     "data": {
      "text/plain": [
       "pandas.core.series.Series"
      ]
     },
     "execution_count": 16,
     "metadata": {},
     "output_type": "execute_result"
    }
   ],
   "source": [
    "type(sdf)"
   ]
  },
  {
   "cell_type": "code",
   "execution_count": 17,
   "id": "40cbe4ee",
   "metadata": {},
   "outputs": [
    {
     "data": {
      "text/plain": [
       "array(['matt', 'kate', 'lopard', 'josh'], dtype=object)"
      ]
     },
     "execution_count": 17,
     "metadata": {},
     "output_type": "execute_result"
    }
   ],
   "source": [
    "df2[\"names\"].values"
   ]
  },
  {
   "cell_type": "code",
   "execution_count": 18,
   "id": "ae3ad9b6",
   "metadata": {},
   "outputs": [
    {
     "data": {
      "text/plain": [
       "0      matt\n",
       "1      kate\n",
       "2    lopard\n",
       "3      josh\n",
       "Name: names, dtype: object"
      ]
     },
     "execution_count": 18,
     "metadata": {},
     "output_type": "execute_result"
    }
   ],
   "source": [
    "df2[\"names\"]"
   ]
  },
  {
   "cell_type": "code",
   "execution_count": 19,
   "id": "0ac171b6",
   "metadata": {},
   "outputs": [
    {
     "data": {
      "text/plain": [
       "array([10, 12, 11, 13], dtype=object)"
      ]
     },
     "execution_count": 19,
     "metadata": {},
     "output_type": "execute_result"
    }
   ],
   "source": [
    "df2[\"age\"].values"
   ]
  },
  {
   "cell_type": "code",
   "execution_count": 20,
   "id": "289adccf",
   "metadata": {},
   "outputs": [
    {
     "data": {
      "text/plain": [
       "array(['josh', 13], dtype=object)"
      ]
     },
     "execution_count": 20,
     "metadata": {},
     "output_type": "execute_result"
    }
   ],
   "source": [
    "df2.iloc[3].values"
   ]
  },
  {
   "cell_type": "code",
   "execution_count": 21,
   "id": "73438683",
   "metadata": {},
   "outputs": [
    {
     "data": {
      "text/plain": [
       "array([10, 12, 11, 13], dtype=object)"
      ]
     },
     "execution_count": 21,
     "metadata": {},
     "output_type": "execute_result"
    }
   ],
   "source": [
    "df2[\"age\"].values"
   ]
  },
  {
   "cell_type": "code",
   "execution_count": 22,
   "id": "bbefbf60",
   "metadata": {},
   "outputs": [],
   "source": [
    "k = []\n",
    "for i in df2[\"age\"].values:\n",
    "    if i >=10 and i <=11:\n",
    "        k.append(\"give candy\")\n",
    "    else:\n",
    "        k.append(\"dont give candy\")\n",
    "df2[\"candy_status\"] = k"
   ]
  },
  {
   "cell_type": "code",
   "execution_count": 23,
   "id": "3da14fce",
   "metadata": {},
   "outputs": [
    {
     "data": {
      "text/html": [
       "<div>\n",
       "<style scoped>\n",
       "    .dataframe tbody tr th:only-of-type {\n",
       "        vertical-align: middle;\n",
       "    }\n",
       "\n",
       "    .dataframe tbody tr th {\n",
       "        vertical-align: top;\n",
       "    }\n",
       "\n",
       "    .dataframe thead th {\n",
       "        text-align: right;\n",
       "    }\n",
       "</style>\n",
       "<table border=\"1\" class=\"dataframe\">\n",
       "  <thead>\n",
       "    <tr style=\"text-align: right;\">\n",
       "      <th></th>\n",
       "      <th>names</th>\n",
       "      <th>age</th>\n",
       "      <th>candy_status</th>\n",
       "    </tr>\n",
       "  </thead>\n",
       "  <tbody>\n",
       "    <tr>\n",
       "      <th>0</th>\n",
       "      <td>matt</td>\n",
       "      <td>10</td>\n",
       "      <td>give candy</td>\n",
       "    </tr>\n",
       "    <tr>\n",
       "      <th>1</th>\n",
       "      <td>kate</td>\n",
       "      <td>12</td>\n",
       "      <td>dont give candy</td>\n",
       "    </tr>\n",
       "    <tr>\n",
       "      <th>2</th>\n",
       "      <td>lopard</td>\n",
       "      <td>11</td>\n",
       "      <td>give candy</td>\n",
       "    </tr>\n",
       "    <tr>\n",
       "      <th>3</th>\n",
       "      <td>josh</td>\n",
       "      <td>13</td>\n",
       "      <td>dont give candy</td>\n",
       "    </tr>\n",
       "  </tbody>\n",
       "</table>\n",
       "</div>"
      ],
      "text/plain": [
       "    names age     candy_status\n",
       "0    matt  10       give candy\n",
       "1    kate  12  dont give candy\n",
       "2  lopard  11       give candy\n",
       "3    josh  13  dont give candy"
      ]
     },
     "execution_count": 23,
     "metadata": {},
     "output_type": "execute_result"
    }
   ],
   "source": [
    "df2"
   ]
  },
  {
   "cell_type": "code",
   "execution_count": 24,
   "id": "25e56d48",
   "metadata": {},
   "outputs": [],
   "source": [
    "path = \"C:/Users/ABDULRASHID/Downloads/kaggle_data/credits.csv\""
   ]
  },
  {
   "cell_type": "code",
   "execution_count": 25,
   "id": "0b0bdf29",
   "metadata": {},
   "outputs": [
    {
     "data": {
      "text/html": [
       "<div>\n",
       "<style scoped>\n",
       "    .dataframe tbody tr th:only-of-type {\n",
       "        vertical-align: middle;\n",
       "    }\n",
       "\n",
       "    .dataframe tbody tr th {\n",
       "        vertical-align: top;\n",
       "    }\n",
       "\n",
       "    .dataframe thead th {\n",
       "        text-align: right;\n",
       "    }\n",
       "</style>\n",
       "<table border=\"1\" class=\"dataframe\">\n",
       "  <thead>\n",
       "    <tr style=\"text-align: right;\">\n",
       "      <th></th>\n",
       "      <th>cast</th>\n",
       "      <th>crew</th>\n",
       "      <th>id</th>\n",
       "    </tr>\n",
       "  </thead>\n",
       "  <tbody>\n",
       "    <tr>\n",
       "      <th>0</th>\n",
       "      <td>[{'cast_id': 14, 'character': 'Woody (voice)',...</td>\n",
       "      <td>[{'credit_id': '52fe4284c3a36847f8024f49', 'de...</td>\n",
       "      <td>862</td>\n",
       "    </tr>\n",
       "    <tr>\n",
       "      <th>1</th>\n",
       "      <td>[{'cast_id': 1, 'character': 'Alan Parrish', '...</td>\n",
       "      <td>[{'credit_id': '52fe44bfc3a36847f80a7cd1', 'de...</td>\n",
       "      <td>8844</td>\n",
       "    </tr>\n",
       "    <tr>\n",
       "      <th>2</th>\n",
       "      <td>[{'cast_id': 2, 'character': 'Max Goldman', 'c...</td>\n",
       "      <td>[{'credit_id': '52fe466a9251416c75077a89', 'de...</td>\n",
       "      <td>15602</td>\n",
       "    </tr>\n",
       "    <tr>\n",
       "      <th>3</th>\n",
       "      <td>[{'cast_id': 1, 'character': \"Savannah 'Vannah...</td>\n",
       "      <td>[{'credit_id': '52fe44779251416c91011acb', 'de...</td>\n",
       "      <td>31357</td>\n",
       "    </tr>\n",
       "    <tr>\n",
       "      <th>4</th>\n",
       "      <td>[{'cast_id': 1, 'character': 'George Banks', '...</td>\n",
       "      <td>[{'credit_id': '52fe44959251416c75039ed7', 'de...</td>\n",
       "      <td>11862</td>\n",
       "    </tr>\n",
       "  </tbody>\n",
       "</table>\n",
       "</div>"
      ],
      "text/plain": [
       "                                                cast  \\\n",
       "0  [{'cast_id': 14, 'character': 'Woody (voice)',...   \n",
       "1  [{'cast_id': 1, 'character': 'Alan Parrish', '...   \n",
       "2  [{'cast_id': 2, 'character': 'Max Goldman', 'c...   \n",
       "3  [{'cast_id': 1, 'character': \"Savannah 'Vannah...   \n",
       "4  [{'cast_id': 1, 'character': 'George Banks', '...   \n",
       "\n",
       "                                                crew     id  \n",
       "0  [{'credit_id': '52fe4284c3a36847f8024f49', 'de...    862  \n",
       "1  [{'credit_id': '52fe44bfc3a36847f80a7cd1', 'de...   8844  \n",
       "2  [{'credit_id': '52fe466a9251416c75077a89', 'de...  15602  \n",
       "3  [{'credit_id': '52fe44779251416c91011acb', 'de...  31357  \n",
       "4  [{'credit_id': '52fe44959251416c75039ed7', 'de...  11862  "
      ]
     },
     "execution_count": 25,
     "metadata": {},
     "output_type": "execute_result"
    }
   ],
   "source": [
    "new_df = pd.read_csv(path)\n",
    "new_df.head()"
   ]
  },
  {
   "cell_type": "code",
   "execution_count": 26,
   "id": "0591bf6b",
   "metadata": {},
   "outputs": [
    {
     "data": {
      "text/plain": [
       "(500, 3)"
      ]
     },
     "execution_count": 26,
     "metadata": {},
     "output_type": "execute_result"
    }
   ],
   "source": [
    "df_new = new_df.sample(n=500)\n",
    "df_new.shape"
   ]
  },
  {
   "cell_type": "code",
   "execution_count": 27,
   "id": "539794b7",
   "metadata": {},
   "outputs": [
    {
     "data": {
      "text/html": [
       "<div>\n",
       "<style scoped>\n",
       "    .dataframe tbody tr th:only-of-type {\n",
       "        vertical-align: middle;\n",
       "    }\n",
       "\n",
       "    .dataframe tbody tr th {\n",
       "        vertical-align: top;\n",
       "    }\n",
       "\n",
       "    .dataframe thead th {\n",
       "        text-align: right;\n",
       "    }\n",
       "</style>\n",
       "<table border=\"1\" class=\"dataframe\">\n",
       "  <thead>\n",
       "    <tr style=\"text-align: right;\">\n",
       "      <th></th>\n",
       "      <th>cast</th>\n",
       "      <th>crew</th>\n",
       "      <th>id</th>\n",
       "    </tr>\n",
       "  </thead>\n",
       "  <tbody>\n",
       "    <tr>\n",
       "      <th>4479</th>\n",
       "      <td>[{'cast_id': 2, 'character': 'Virgil Cane', 'c...</td>\n",
       "      <td>[{'credit_id': '52fe45cec3a368484e06ff5b', 'de...</td>\n",
       "      <td>29185</td>\n",
       "    </tr>\n",
       "    <tr>\n",
       "      <th>19120</th>\n",
       "      <td>[{'cast_id': 4, 'character': 'Bruise Brubaker'...</td>\n",
       "      <td>[{'credit_id': '52fe44a5c3a368484e02ee99', 'de...</td>\n",
       "      <td>24729</td>\n",
       "    </tr>\n",
       "    <tr>\n",
       "      <th>7848</th>\n",
       "      <td>[{'cast_id': 9, 'character': 'Herb', 'credit_i...</td>\n",
       "      <td>[{'credit_id': '52fe4417c3a368484e00ef49', 'de...</td>\n",
       "      <td>21386</td>\n",
       "    </tr>\n",
       "    <tr>\n",
       "      <th>30756</th>\n",
       "      <td>[{'cast_id': 1, 'character': 'Madison', 'credi...</td>\n",
       "      <td>[]</td>\n",
       "      <td>19212</td>\n",
       "    </tr>\n",
       "    <tr>\n",
       "      <th>21568</th>\n",
       "      <td>[{'cast_id': 2, 'character': 'Zola', 'credit_i...</td>\n",
       "      <td>[{'credit_id': '52fe4af9c3a368484e170d5b', 'de...</td>\n",
       "      <td>127451</td>\n",
       "    </tr>\n",
       "  </tbody>\n",
       "</table>\n",
       "</div>"
      ],
      "text/plain": [
       "                                                    cast  \\\n",
       "4479   [{'cast_id': 2, 'character': 'Virgil Cane', 'c...   \n",
       "19120  [{'cast_id': 4, 'character': 'Bruise Brubaker'...   \n",
       "7848   [{'cast_id': 9, 'character': 'Herb', 'credit_i...   \n",
       "30756  [{'cast_id': 1, 'character': 'Madison', 'credi...   \n",
       "21568  [{'cast_id': 2, 'character': 'Zola', 'credit_i...   \n",
       "\n",
       "                                                    crew      id  \n",
       "4479   [{'credit_id': '52fe45cec3a368484e06ff5b', 'de...   29185  \n",
       "19120  [{'credit_id': '52fe44a5c3a368484e02ee99', 'de...   24729  \n",
       "7848   [{'credit_id': '52fe4417c3a368484e00ef49', 'de...   21386  \n",
       "30756                                                 []   19212  \n",
       "21568  [{'credit_id': '52fe4af9c3a368484e170d5b', 'de...  127451  "
      ]
     },
     "execution_count": 27,
     "metadata": {},
     "output_type": "execute_result"
    }
   ],
   "source": [
    "df_new.head()"
   ]
  },
  {
   "cell_type": "code",
   "execution_count": 28,
   "id": "7d66a7ca",
   "metadata": {},
   "outputs": [
    {
     "data": {
      "text/html": [
       "<div>\n",
       "<style scoped>\n",
       "    .dataframe tbody tr th:only-of-type {\n",
       "        vertical-align: middle;\n",
       "    }\n",
       "\n",
       "    .dataframe tbody tr th {\n",
       "        vertical-align: top;\n",
       "    }\n",
       "\n",
       "    .dataframe thead th {\n",
       "        text-align: right;\n",
       "    }\n",
       "</style>\n",
       "<table border=\"1\" class=\"dataframe\">\n",
       "  <thead>\n",
       "    <tr style=\"text-align: right;\">\n",
       "      <th></th>\n",
       "      <th>cast</th>\n",
       "      <th>crew</th>\n",
       "      <th>id</th>\n",
       "    </tr>\n",
       "  </thead>\n",
       "  <tbody>\n",
       "    <tr>\n",
       "      <th>0</th>\n",
       "      <td>[{'cast_id': 2, 'character': 'Virgil Cane', 'c...</td>\n",
       "      <td>[{'credit_id': '52fe45cec3a368484e06ff5b', 'de...</td>\n",
       "      <td>29185</td>\n",
       "    </tr>\n",
       "    <tr>\n",
       "      <th>1</th>\n",
       "      <td>[{'cast_id': 4, 'character': 'Bruise Brubaker'...</td>\n",
       "      <td>[{'credit_id': '52fe44a5c3a368484e02ee99', 'de...</td>\n",
       "      <td>24729</td>\n",
       "    </tr>\n",
       "    <tr>\n",
       "      <th>2</th>\n",
       "      <td>[{'cast_id': 9, 'character': 'Herb', 'credit_i...</td>\n",
       "      <td>[{'credit_id': '52fe4417c3a368484e00ef49', 'de...</td>\n",
       "      <td>21386</td>\n",
       "    </tr>\n",
       "    <tr>\n",
       "      <th>3</th>\n",
       "      <td>[{'cast_id': 1, 'character': 'Madison', 'credi...</td>\n",
       "      <td>[]</td>\n",
       "      <td>19212</td>\n",
       "    </tr>\n",
       "    <tr>\n",
       "      <th>4</th>\n",
       "      <td>[{'cast_id': 2, 'character': 'Zola', 'credit_i...</td>\n",
       "      <td>[{'credit_id': '52fe4af9c3a368484e170d5b', 'de...</td>\n",
       "      <td>127451</td>\n",
       "    </tr>\n",
       "    <tr>\n",
       "      <th>...</th>\n",
       "      <td>...</td>\n",
       "      <td>...</td>\n",
       "      <td>...</td>\n",
       "    </tr>\n",
       "    <tr>\n",
       "      <th>495</th>\n",
       "      <td>[{'cast_id': 24, 'character': 'Shrek (voice)',...</td>\n",
       "      <td>[{'credit_id': '52fe4279c3a36847f802182b', 'de...</td>\n",
       "      <td>808</td>\n",
       "    </tr>\n",
       "    <tr>\n",
       "      <th>496</th>\n",
       "      <td>[{'cast_id': 0, 'character': '', 'credit_id': ...</td>\n",
       "      <td>[{'credit_id': '540a2cd30e0a262b43000b61', 'de...</td>\n",
       "      <td>290695</td>\n",
       "    </tr>\n",
       "    <tr>\n",
       "      <th>497</th>\n",
       "      <td>[{'cast_id': 15, 'character': 'Les Triplettes ...</td>\n",
       "      <td>[{'credit_id': '52fe4518c3a36847f80bc147', 'de...</td>\n",
       "      <td>9662</td>\n",
       "    </tr>\n",
       "    <tr>\n",
       "      <th>498</th>\n",
       "      <td>[{'cast_id': 7, 'character': 'Billy Blazes', '...</td>\n",
       "      <td>[{'credit_id': '52fe486bc3a36847f81662af', 'de...</td>\n",
       "      <td>53516</td>\n",
       "    </tr>\n",
       "    <tr>\n",
       "      <th>499</th>\n",
       "      <td>[{'cast_id': 8, 'character': 'Capt. Henri Roch...</td>\n",
       "      <td>[{'credit_id': '58bcb2f7925141607b044915', 'de...</td>\n",
       "      <td>23567</td>\n",
       "    </tr>\n",
       "  </tbody>\n",
       "</table>\n",
       "<p>500 rows × 3 columns</p>\n",
       "</div>"
      ],
      "text/plain": [
       "                                                  cast  \\\n",
       "0    [{'cast_id': 2, 'character': 'Virgil Cane', 'c...   \n",
       "1    [{'cast_id': 4, 'character': 'Bruise Brubaker'...   \n",
       "2    [{'cast_id': 9, 'character': 'Herb', 'credit_i...   \n",
       "3    [{'cast_id': 1, 'character': 'Madison', 'credi...   \n",
       "4    [{'cast_id': 2, 'character': 'Zola', 'credit_i...   \n",
       "..                                                 ...   \n",
       "495  [{'cast_id': 24, 'character': 'Shrek (voice)',...   \n",
       "496  [{'cast_id': 0, 'character': '', 'credit_id': ...   \n",
       "497  [{'cast_id': 15, 'character': 'Les Triplettes ...   \n",
       "498  [{'cast_id': 7, 'character': 'Billy Blazes', '...   \n",
       "499  [{'cast_id': 8, 'character': 'Capt. Henri Roch...   \n",
       "\n",
       "                                                  crew      id  \n",
       "0    [{'credit_id': '52fe45cec3a368484e06ff5b', 'de...   29185  \n",
       "1    [{'credit_id': '52fe44a5c3a368484e02ee99', 'de...   24729  \n",
       "2    [{'credit_id': '52fe4417c3a368484e00ef49', 'de...   21386  \n",
       "3                                                   []   19212  \n",
       "4    [{'credit_id': '52fe4af9c3a368484e170d5b', 'de...  127451  \n",
       "..                                                 ...     ...  \n",
       "495  [{'credit_id': '52fe4279c3a36847f802182b', 'de...     808  \n",
       "496  [{'credit_id': '540a2cd30e0a262b43000b61', 'de...  290695  \n",
       "497  [{'credit_id': '52fe4518c3a36847f80bc147', 'de...    9662  \n",
       "498  [{'credit_id': '52fe486bc3a36847f81662af', 'de...   53516  \n",
       "499  [{'credit_id': '58bcb2f7925141607b044915', 'de...   23567  \n",
       "\n",
       "[500 rows x 3 columns]"
      ]
     },
     "execution_count": 28,
     "metadata": {},
     "output_type": "execute_result"
    }
   ],
   "source": [
    "kb = df_new.reset_index().drop(\"index\", axis=1)\n",
    "kb"
   ]
  },
  {
   "cell_type": "code",
   "execution_count": 29,
   "id": "0d602e37",
   "metadata": {},
   "outputs": [],
   "source": [
    "id_arr = kb[\"id\"].values\n",
    "\n"
   ]
  },
  {
   "cell_type": "code",
   "execution_count": 31,
   "id": "84f9b069",
   "metadata": {},
   "outputs": [
    {
     "ename": "NameError",
     "evalue": "name 'ast' is not defined",
     "output_type": "error",
     "traceback": [
      "\u001b[1;31m---------------------------------------------------------------------------\u001b[0m",
      "\u001b[1;31mNameError\u001b[0m                                 Traceback (most recent call last)",
      "\u001b[1;32m~\\AppData\\Local\\Temp\\ipykernel_17692\\4020234392.py\u001b[0m in \u001b[0;36m<module>\u001b[1;34m\u001b[0m\n\u001b[0;32m      1\u001b[0m \u001b[1;31m#ast literal converts \"[]\" to a proper list\u001b[0m\u001b[1;33m\u001b[0m\u001b[1;33m\u001b[0m\u001b[0m\n\u001b[1;32m----> 2\u001b[1;33m \u001b[0mdata_x\u001b[0m \u001b[1;33m=\u001b[0m \u001b[0mast\u001b[0m\u001b[1;33m.\u001b[0m\u001b[0mliteral_eval\u001b[0m\u001b[1;33m(\u001b[0m\u001b[0mkb\u001b[0m\u001b[1;33m[\u001b[0m\u001b[1;34m\"cast\"\u001b[0m\u001b[1;33m]\u001b[0m\u001b[1;33m.\u001b[0m\u001b[0miloc\u001b[0m\u001b[1;33m[\u001b[0m\u001b[1;36m0\u001b[0m\u001b[1;33m]\u001b[0m\u001b[1;33m)\u001b[0m\u001b[1;33m\u001b[0m\u001b[1;33m\u001b[0m\u001b[0m\n\u001b[0m\u001b[0;32m      3\u001b[0m \u001b[0mdata_x\u001b[0m\u001b[1;33m\u001b[0m\u001b[1;33m\u001b[0m\u001b[0m\n",
      "\u001b[1;31mNameError\u001b[0m: name 'ast' is not defined"
     ]
    }
   ],
   "source": [
    "#ast literal converts \"[]\" to a proper list\n",
    "data_x = ast.literal_eval(kb[\"cast\"].iloc[0])\n",
    "data_x"
   ]
  },
  {
   "cell_type": "code",
   "execution_count": 1,
   "id": "f997f5e7",
   "metadata": {},
   "outputs": [],
   "source": [
    "def handler(df, col, n):\n",
    "    data = ast.literal_eval()"
   ]
  },
  {
   "cell_type": "code",
   "execution_count": 3,
   "id": "f4ad3421",
   "metadata": {},
   "outputs": [],
   "source": [
    "my_str = \"Hello wolrd\"\n"
   ]
  },
  {
   "cell_type": "code",
   "execution_count": 4,
   "id": "5ae525b1",
   "metadata": {},
   "outputs": [
    {
     "name": "stdout",
     "output_type": "stream",
     "text": [
      "Hello wolrd\n"
     ]
    }
   ],
   "source": [
    "print(my_str)"
   ]
  },
  {
   "cell_type": "code",
   "execution_count": null,
   "id": "b3c0b56e",
   "metadata": {},
   "outputs": [],
   "source": [
    "name = input(\"Hi! what is your name?\")\n",
    "print(\"Nice to meet you\" + name + \"!\")\n",
    "\n",
    "age = input(\"How old are you\")\n",
    "print(\"so, you are already\" + str(age) + \"years old\" + name + \"!\")"
   ]
  },
  {
   "cell_type": "code",
   "execution_count": null,
   "id": "d551f397",
   "metadata": {},
   "outputs": [],
   "source": [
    "def naem():"
   ]
  },
  {
   "cell_type": "code",
   "execution_count": null,
   "id": "88787b2f",
   "metadata": {},
   "outputs": [],
   "source": [
    "def naem():\n",
    "    print(\"what's your name\")"
   ]
  },
  {
   "cell_type": "code",
   "execution_count": null,
   "id": "f1e24674",
   "metadata": {},
   "outputs": [],
   "source": [
    "name.py\n",
    "def name():\n",
    "    print(\"what's your name\")"
   ]
  },
  {
   "cell_type": "code",
   "execution_count": null,
   "id": "d162b5d0",
   "metadata": {},
   "outputs": [],
   "source": []
  }
 ],
 "metadata": {
  "kernelspec": {
   "display_name": "Python 3 (ipykernel)",
   "language": "python",
   "name": "python3"
  },
  "language_info": {
   "codemirror_mode": {
    "name": "ipython",
    "version": 3
   },
   "file_extension": ".py",
   "mimetype": "text/x-python",
   "name": "python",
   "nbconvert_exporter": "python",
   "pygments_lexer": "ipython3",
   "version": "3.9.13"
  }
 },
 "nbformat": 4,
 "nbformat_minor": 5
}
